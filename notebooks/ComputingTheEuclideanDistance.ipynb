{
 "cells": [
  {
   "cell_type": "markdown",
   "metadata": {},
   "source": [
    "# Computing the Euclidean Distance"
   ]
  },
  {
   "cell_type": "code",
   "execution_count": 1,
   "metadata": {},
   "outputs": [],
   "source": [
    "import pandas as pd\n",
    "import numpy as np\n",
    "import os \n",
    "import math\n",
    "import random\n",
    "import matplotlib.pyplot as plt"
   ]
  },
  {
   "cell_type": "markdown",
   "metadata": {},
   "source": [
    "### Load a Data Set and Save it as a Pandas DataFrame\n",
    "\n",
    "We will work with a data set called \"cell2cell.\" This data set is used to analyze cellular telephone customers and can be used to predict whether a customer will remain with their current telecom service or leave to another.\n",
    "\n"
   ]
  },
  {
   "cell_type": "code",
   "execution_count": 2,
   "metadata": {},
   "outputs": [],
   "source": [
    "filename = os.path.join(os.getcwd(), \"data\",\"cell2cell.csv\")\n",
    "df = pd.read_csv(filename, header=0)"
   ]
  },
  {
   "cell_type": "markdown",
   "metadata": {},
   "source": [
    "### Inspect the Data"
   ]
  },
  {
   "cell_type": "code",
   "execution_count": 3,
   "metadata": {},
   "outputs": [
    {
     "data": {
      "text/html": [
       "<div>\n",
       "<style scoped>\n",
       "    .dataframe tbody tr th:only-of-type {\n",
       "        vertical-align: middle;\n",
       "    }\n",
       "\n",
       "    .dataframe tbody tr th {\n",
       "        vertical-align: top;\n",
       "    }\n",
       "\n",
       "    .dataframe thead th {\n",
       "        text-align: right;\n",
       "    }\n",
       "</style>\n",
       "<table border=\"1\" class=\"dataframe\">\n",
       "  <thead>\n",
       "    <tr style=\"text-align: right;\">\n",
       "      <th></th>\n",
       "      <th>CustomerID</th>\n",
       "      <th>Churn</th>\n",
       "      <th>ServiceArea</th>\n",
       "      <th>ChildrenInHH</th>\n",
       "      <th>HandsetRefurbished</th>\n",
       "      <th>HandsetWebCapable</th>\n",
       "      <th>TruckOwner</th>\n",
       "      <th>RVOwner</th>\n",
       "      <th>HomeownershipKnown</th>\n",
       "      <th>BuysViaMailOrder</th>\n",
       "      <th>...</th>\n",
       "      <th>HandsetModels</th>\n",
       "      <th>CurrentEquipmentDays</th>\n",
       "      <th>AgeHH1</th>\n",
       "      <th>AgeHH2</th>\n",
       "      <th>RetentionCalls</th>\n",
       "      <th>RetentionOffersAccepted</th>\n",
       "      <th>ReferralsMadeBySubscriber</th>\n",
       "      <th>IncomeGroup</th>\n",
       "      <th>AdjustmentsToCreditRating</th>\n",
       "      <th>HandsetPrice</th>\n",
       "    </tr>\n",
       "  </thead>\n",
       "  <tbody>\n",
       "    <tr>\n",
       "      <th>0</th>\n",
       "      <td>3000002</td>\n",
       "      <td>True</td>\n",
       "      <td>SEAPOR503</td>\n",
       "      <td>False</td>\n",
       "      <td>False</td>\n",
       "      <td>True</td>\n",
       "      <td>False</td>\n",
       "      <td>False</td>\n",
       "      <td>True</td>\n",
       "      <td>True</td>\n",
       "      <td>...</td>\n",
       "      <td>0.487071</td>\n",
       "      <td>-0.077013</td>\n",
       "      <td>1.387766</td>\n",
       "      <td>-0.883541</td>\n",
       "      <td>4.662897</td>\n",
       "      <td>-0.1283</td>\n",
       "      <td>-0.169283</td>\n",
       "      <td>-0.103411</td>\n",
       "      <td>-0.140707</td>\n",
       "      <td>-0.864858</td>\n",
       "    </tr>\n",
       "    <tr>\n",
       "      <th>1</th>\n",
       "      <td>3000010</td>\n",
       "      <td>True</td>\n",
       "      <td>PITHOM412</td>\n",
       "      <td>True</td>\n",
       "      <td>False</td>\n",
       "      <td>False</td>\n",
       "      <td>False</td>\n",
       "      <td>False</td>\n",
       "      <td>True</td>\n",
       "      <td>True</td>\n",
       "      <td>...</td>\n",
       "      <td>-0.616775</td>\n",
       "      <td>3.019920</td>\n",
       "      <td>0.392039</td>\n",
       "      <td>0.871495</td>\n",
       "      <td>-0.180167</td>\n",
       "      <td>-0.1283</td>\n",
       "      <td>-0.169283</td>\n",
       "      <td>0.215243</td>\n",
       "      <td>-0.140707</td>\n",
       "      <td>-0.864858</td>\n",
       "    </tr>\n",
       "    <tr>\n",
       "      <th>2</th>\n",
       "      <td>3000014</td>\n",
       "      <td>False</td>\n",
       "      <td>MILMIL414</td>\n",
       "      <td>True</td>\n",
       "      <td>False</td>\n",
       "      <td>False</td>\n",
       "      <td>False</td>\n",
       "      <td>False</td>\n",
       "      <td>False</td>\n",
       "      <td>False</td>\n",
       "      <td>...</td>\n",
       "      <td>-0.616775</td>\n",
       "      <td>3.019920</td>\n",
       "      <td>-0.241605</td>\n",
       "      <td>0.202910</td>\n",
       "      <td>-0.180167</td>\n",
       "      <td>-0.1283</td>\n",
       "      <td>-0.169283</td>\n",
       "      <td>0.533896</td>\n",
       "      <td>-0.140707</td>\n",
       "      <td>-0.368174</td>\n",
       "    </tr>\n",
       "    <tr>\n",
       "      <th>3</th>\n",
       "      <td>3000022</td>\n",
       "      <td>False</td>\n",
       "      <td>PITHOM412</td>\n",
       "      <td>False</td>\n",
       "      <td>False</td>\n",
       "      <td>True</td>\n",
       "      <td>False</td>\n",
       "      <td>False</td>\n",
       "      <td>True</td>\n",
       "      <td>True</td>\n",
       "      <td>...</td>\n",
       "      <td>2.694763</td>\n",
       "      <td>0.305179</td>\n",
       "      <td>-0.060564</td>\n",
       "      <td>-0.883541</td>\n",
       "      <td>-0.180167</td>\n",
       "      <td>-0.1283</td>\n",
       "      <td>-0.169283</td>\n",
       "      <td>0.533896</td>\n",
       "      <td>-0.140707</td>\n",
       "      <td>-1.195980</td>\n",
       "    </tr>\n",
       "    <tr>\n",
       "      <th>4</th>\n",
       "      <td>3000026</td>\n",
       "      <td>True</td>\n",
       "      <td>OKCTUL918</td>\n",
       "      <td>False</td>\n",
       "      <td>False</td>\n",
       "      <td>False</td>\n",
       "      <td>False</td>\n",
       "      <td>False</td>\n",
       "      <td>True</td>\n",
       "      <td>True</td>\n",
       "      <td>...</td>\n",
       "      <td>1.590917</td>\n",
       "      <td>1.857585</td>\n",
       "      <td>0.663601</td>\n",
       "      <td>1.372934</td>\n",
       "      <td>-0.180167</td>\n",
       "      <td>-0.1283</td>\n",
       "      <td>-0.169283</td>\n",
       "      <td>1.489856</td>\n",
       "      <td>2.469282</td>\n",
       "      <td>-1.195980</td>\n",
       "    </tr>\n",
       "  </tbody>\n",
       "</table>\n",
       "<p>5 rows × 58 columns</p>\n",
       "</div>"
      ],
      "text/plain": [
       "   CustomerID  Churn ServiceArea  ChildrenInHH  HandsetRefurbished  \\\n",
       "0     3000002   True   SEAPOR503         False               False   \n",
       "1     3000010   True   PITHOM412          True               False   \n",
       "2     3000014  False   MILMIL414          True               False   \n",
       "3     3000022  False   PITHOM412         False               False   \n",
       "4     3000026   True   OKCTUL918         False               False   \n",
       "\n",
       "   HandsetWebCapable  TruckOwner  RVOwner  HomeownershipKnown  \\\n",
       "0               True       False    False                True   \n",
       "1              False       False    False                True   \n",
       "2              False       False    False               False   \n",
       "3               True       False    False                True   \n",
       "4              False       False    False                True   \n",
       "\n",
       "   BuysViaMailOrder  ...  HandsetModels  CurrentEquipmentDays    AgeHH1  \\\n",
       "0              True  ...       0.487071             -0.077013  1.387766   \n",
       "1              True  ...      -0.616775              3.019920  0.392039   \n",
       "2             False  ...      -0.616775              3.019920 -0.241605   \n",
       "3              True  ...       2.694763              0.305179 -0.060564   \n",
       "4              True  ...       1.590917              1.857585  0.663601   \n",
       "\n",
       "     AgeHH2  RetentionCalls  RetentionOffersAccepted  \\\n",
       "0 -0.883541        4.662897                  -0.1283   \n",
       "1  0.871495       -0.180167                  -0.1283   \n",
       "2  0.202910       -0.180167                  -0.1283   \n",
       "3 -0.883541       -0.180167                  -0.1283   \n",
       "4  1.372934       -0.180167                  -0.1283   \n",
       "\n",
       "   ReferralsMadeBySubscriber  IncomeGroup  AdjustmentsToCreditRating  \\\n",
       "0                  -0.169283    -0.103411                  -0.140707   \n",
       "1                  -0.169283     0.215243                  -0.140707   \n",
       "2                  -0.169283     0.533896                  -0.140707   \n",
       "3                  -0.169283     0.533896                  -0.140707   \n",
       "4                  -0.169283     1.489856                   2.469282   \n",
       "\n",
       "  HandsetPrice  \n",
       "0    -0.864858  \n",
       "1    -0.864858  \n",
       "2    -0.368174  \n",
       "3    -1.195980  \n",
       "4    -1.195980  \n",
       "\n",
       "[5 rows x 58 columns]"
      ]
     },
     "execution_count": 3,
     "metadata": {},
     "output_type": "execute_result"
    }
   ],
   "source": [
    "df.head()"
   ]
  },
  {
   "cell_type": "code",
   "execution_count": 4,
   "metadata": {},
   "outputs": [
    {
     "data": {
      "text/plain": [
       "CustomerID                     int64\n",
       "Churn                           bool\n",
       "ServiceArea                   object\n",
       "ChildrenInHH                    bool\n",
       "HandsetRefurbished              bool\n",
       "HandsetWebCapable               bool\n",
       "TruckOwner                      bool\n",
       "RVOwner                         bool\n",
       "HomeownershipKnown              bool\n",
       "BuysViaMailOrder                bool\n",
       "RespondsToMailOffers            bool\n",
       "OptOutMailings                  bool\n",
       "NonUSTravel                     bool\n",
       "OwnsComputer                    bool\n",
       "HasCreditCard                   bool\n",
       "NewCellphoneUser                bool\n",
       "NotNewCellphoneUser             bool\n",
       "OwnsMotorcycle                  bool\n",
       "MadeCallToRetentionTeam         bool\n",
       "CreditRating                  object\n",
       "PrizmCode                     object\n",
       "Occupation                    object\n",
       "Married                       object\n",
       "MonthlyRevenue               float64\n",
       "MonthlyMinutes               float64\n",
       "TotalRecurringCharge         float64\n",
       "DirectorAssistedCalls        float64\n",
       "OverageMinutes               float64\n",
       "RoamingCalls                 float64\n",
       "PercChangeMinutes            float64\n",
       "PercChangeRevenues           float64\n",
       "DroppedCalls                 float64\n",
       "BlockedCalls                 float64\n",
       "UnansweredCalls              float64\n",
       "CustomerCareCalls            float64\n",
       "ThreewayCalls                float64\n",
       "ReceivedCalls                float64\n",
       "OutboundCalls                float64\n",
       "InboundCalls                 float64\n",
       "PeakCallsInOut               float64\n",
       "OffPeakCallsInOut            float64\n",
       "DroppedBlockedCalls          float64\n",
       "CallForwardingCalls          float64\n",
       "CallWaitingCalls             float64\n",
       "MonthsInService              float64\n",
       "UniqueSubs                   float64\n",
       "ActiveSubs                   float64\n",
       "Handsets                     float64\n",
       "HandsetModels                float64\n",
       "CurrentEquipmentDays         float64\n",
       "AgeHH1                       float64\n",
       "AgeHH2                       float64\n",
       "RetentionCalls               float64\n",
       "RetentionOffersAccepted      float64\n",
       "ReferralsMadeBySubscriber    float64\n",
       "IncomeGroup                  float64\n",
       "AdjustmentsToCreditRating    float64\n",
       "HandsetPrice                 float64\n",
       "dtype: object"
      ]
     },
     "execution_count": 4,
     "metadata": {},
     "output_type": "execute_result"
    }
   ],
   "source": [
    "df.dtypes"
   ]
  },
  {
   "cell_type": "code",
   "execution_count": 5,
   "metadata": {},
   "outputs": [
    {
     "data": {
      "text/plain": [
       "(51047, 58)"
      ]
     },
     "execution_count": 5,
     "metadata": {},
     "output_type": "execute_result"
    }
   ],
   "source": [
    "df.shape"
   ]
  },
  {
   "cell_type": "markdown",
   "metadata": {},
   "source": [
    "## Euclidean Distance"
   ]
  },
  {
   "cell_type": "markdown",
   "metadata": {},
   "source": [
    "#### KNN\n",
    "<p>k-Nearest Neighbors (KNN) is an instance-based learning algorithm. To make a classification for a given unlabeled example $A$, we search the training data for the $k$ nearest neighbors, as defined by some distance metric $d(A,B)$ in which $B$ represents another example. We choose the most common label among the nearest neighbor examples to be our prediction (label) for the unlabeled example.<br>\n",
    "    \n",
    "The most commonly used distance metric for KNN is the Euclidean distance.\n",
    "\n",
    "#### Euclidean Distance\n",
    "\n",
    "For two n-dimensional, real-valued vectors $A,B \\in \\mathbb{R}^n$, the Euclidean distance $eud$ is defined as:\n",
    "\n",
    "$$ eud(A, B) = \\sqrt{\\sum_{i=1}^{n}{(B_i-A_i)^2}}$$\n",
    "\n",
    "\n",
    "Euclidean distance finds the distance between two vectors of the same length. In this formula, $A_i$ is the $ith$ coordinate of vector $A$, and $B_i$ is the $ith$ coordinate of vector $B$.\n",
    "\n",
    "\n",
    "Let's relate this to a dataset. Let's think of the vectors $A$ and $B$ as being two examples (rows) in a dataset. \n",
    "\n",
    "Let $A = <x^a_1,...x^a_n>$ be a $n$-dimensional vector ($x^a_i$ is the $ith$ feature in example $A$ and $n$ is the total number of features). \n",
    "\n",
    "Then for two vectors (examples) $A$ and $B$ the Euclidean distance is defined as:<br><br>\n",
    "<center>$eud(A, B) = \\sqrt{(x^b_1-x^a_1)^2+ (x^b_2-x^a_2)^2+...+(x^b_n-x^a_n)^2} = \\sqrt{\\sum\\limits_{i=1}^n (x^b_i-x^a_i)^2}$\n",
    "</center>\n",
    "<br><br>\n",
    "</p>\n"
   ]
  },
  {
   "cell_type": "markdown",
   "metadata": {},
   "source": [
    "To visualize KNN, you can picture plotting the examples (also called data points) in our dataset and finding the distance between them. Let's create a visualization to see how we plot examples and find the distance between each example.\n",
    "\n",
    "To easily visualize this, let's plot two examples from DataFrame `df`. Note that each example contains many features, but to make this visualization even simpler, we will work with two dimensions (that is, two features). \n",
    "\n",
    "Euclidean distance is best used to calculate the distance between vectors containing numerical values. Therefore, we will choose two features that have numerical values.\n",
    "\n",
    "Let us use row 0 and row 4 in DataFrame `df` and focus on features `HandsetModels` and `AgeHH1`. Run the code below to examine the two examples we will be plotting.\n",
    "\n"
   ]
  },
  {
   "cell_type": "code",
   "execution_count": 6,
   "metadata": {},
   "outputs": [
    {
     "data": {
      "text/html": [
       "<div>\n",
       "<style scoped>\n",
       "    .dataframe tbody tr th:only-of-type {\n",
       "        vertical-align: middle;\n",
       "    }\n",
       "\n",
       "    .dataframe tbody tr th {\n",
       "        vertical-align: top;\n",
       "    }\n",
       "\n",
       "    .dataframe thead th {\n",
       "        text-align: right;\n",
       "    }\n",
       "</style>\n",
       "<table border=\"1\" class=\"dataframe\">\n",
       "  <thead>\n",
       "    <tr style=\"text-align: right;\">\n",
       "      <th></th>\n",
       "      <th>HandsetModels</th>\n",
       "      <th>AgeHH1</th>\n",
       "    </tr>\n",
       "  </thead>\n",
       "  <tbody>\n",
       "    <tr>\n",
       "      <th>0</th>\n",
       "      <td>0.487071</td>\n",
       "      <td>1.387766</td>\n",
       "    </tr>\n",
       "    <tr>\n",
       "      <th>4</th>\n",
       "      <td>1.590917</td>\n",
       "      <td>0.663601</td>\n",
       "    </tr>\n",
       "  </tbody>\n",
       "</table>\n",
       "</div>"
      ],
      "text/plain": [
       "   HandsetModels    AgeHH1\n",
       "0       0.487071  1.387766\n",
       "4       1.590917  0.663601"
      ]
     },
     "metadata": {},
     "output_type": "display_data"
    }
   ],
   "source": [
    "display(df.loc[[0,4],['HandsetModels','AgeHH1']])\n"
   ]
  },
  {
   "cell_type": "markdown",
   "metadata": {},
   "source": [
    "Each example (row) can be viewed as a vector:\n",
    "\n",
    "example 1: `(0.487071, 1.387766)`\n",
    "\n",
    "example 2:  `(1.590917, 0.663601)`\n",
    "\n",
    "\n",
    "You will use the Euclidean distance  formula to find the distance between these two vectors. First, let's plot these vectors. Run the code cell below to generate a plot. Examine the resulting plot."
   ]
  },
  {
   "cell_type": "code",
   "execution_count": 7,
   "metadata": {},
   "outputs": [
    {
     "data": {
      "image/png": "[encoded data removed]",
      "text/plain": [
       "<Figure size 432x288 with 1 Axes>"
      ]
     },
     "metadata": {
      "needs_background": "light"
     },
     "output_type": "display_data"
    }
   ],
   "source": [
    "# example 1 (row 0):\n",
    "vector_A = [df.loc[0]['HandsetModels'], df.loc[0]['AgeHH1']]\n",
    "\n",
    "# example 2 (row 4):\n",
    "vector_B = [df.loc[4]['HandsetModels'], df.loc[4]['AgeHH1']]\n",
    "\n",
    "\n",
    "plt.scatter(vector_A[0],vector_A[1] ,c='b',label='example 1')\n",
    "plt.scatter(vector_B[0],vector_B[1], c='r', label='example 2')\n",
    "plt.plot([vector_A[0],vector_B[0]], [vector_A[1],vector_B[1]], c='g', linestyle='dashed', label ='distance')\n",
    "\n",
    "plt.xlim([0, 3])\n",
    "plt.ylim([0, 3])\n",
    "plt.xlabel('HandsetModels')\n",
    "plt.ylabel('AgeHH1')\n",
    "\n",
    "plt.legend(loc='upper right');\n",
    "plt.show()"
   ]
  },
  {
   "cell_type": "markdown",
   "metadata": {},
   "source": [
    "You will use the Euclidean distance formula to find the distance between these two vectors. \n",
    "\n",
    "\n",
    "Use the Euclidean distance formula to calculate the distance between `vector_A` and `vector_B` by hand and save the result to variable `euc_distance`.\n",
    "\n",
    "For simplicity, use the following rounded vector values in your calculation:\n",
    "\n",
    "vector_A: `(0.5, 1.4)`\n",
    "\n",
    "vector_B:  `(1.6, 0.7)`"
   ]
  },
  {
   "cell_type": "markdown",
   "metadata": {},
   "source": [
    "### Graded Cell\n",
    "The cell below will be graded. Remove the line \"raise NotImplementedError()\" before writing your code."
   ]
  },
  {
   "cell_type": "code",
   "execution_count": 10,
   "metadata": {
    "deletable": false,
    "nbgrader": {
     "checksum": "48de3eedb55c2434f561e260e54692bb",
     "grade": false,
     "grade_id": "cell-03480691ea6072e3",
     "locked": false,
     "schema_version": 1,
     "solution": true
    }
   },
   "outputs": [
    {
     "data": {
      "image/png": "[encoded data removed]",
      "text/plain": [
       "<Figure size 432x288 with 1 Axes>"
      ]
     },
     "metadata": {
      "needs_background": "light"
     },
     "output_type": "display_data"
    }
   ],
   "source": [
    "vector_A = (0.5, 1.4)\n",
    "vector_B = (1.6, 0.7)\n",
    "\n",
    "plt.scatter(vector_A[0],vector_A[1] ,c='b',label='example 1')\n",
    "plt.scatter(vector_B[0],vector_B[1], c='r', label='example 2')\n",
    "plt.plot([vector_A[0],vector_B[0]], [vector_A[1],vector_B[1]], c='g', linestyle='dashed', label ='distance')\n",
    "\n",
    "\n",
    "plt.xlim([0, 3])\n",
    "plt.ylim([0, 3])\n",
    "plt.xlabel('HandsetModels')\n",
    "plt.ylabel('AgeHH1')\n",
    "\n",
    "plt.legend(loc='upper right');\n",
    "plt.show()\n",
    "\n",
    "diff_x = vector_A[0]-vector_B[0]\n",
    "diff_y = vector_A[1]-vector_B[1]\n",
    "\n",
    "euc_distance = math.sqrt((diff_x**2)+(diff_y**2))\n",
    "\n"
   ]
  },
  {
   "cell_type": "markdown",
   "metadata": {},
   "source": [
    "### Self-Check\n",
    "\n",
    "Run the cell below to test the correctness of your code above before submitting for grading. Do not add code or delete code in the cell."
   ]
  },
  {
   "cell_type": "code",
   "execution_count": 11,
   "metadata": {
    "deletable": false,
    "editable": false,
    "nbgrader": {
     "checksum": "59aaf7d7aa51b4d41d5bec624c7c6b65",
     "grade": true,
     "grade_id": "cell-6b2a028e2d7075da",
     "locked": true,
     "points": 1,
     "schema_version": 1,
     "solution": false
    }
   },
   "outputs": [
    {
     "name": "stdout",
     "output_type": "stream",
     "text": [
      "Correct!\n"
     ]
    }
   ],
   "source": [
    "# Run this self-test cell to check your code; \n",
    "# do not add code or delete code in this cell\n",
    "from jn import testEuc\n",
    "\n",
    "try:\n",
    "    p, err = testEuc(euc_distance)\n",
    "    print(err)\n",
    "except Exception as e:\n",
    "    print(\"Error!\\n\" + str(e))\n",
    "    \n"
   ]
  },
  {
   "cell_type": "markdown",
   "metadata": {},
   "source": [
    "## Step 1: Filter Numerical Features"
   ]
  },
  {
   "cell_type": "markdown",
   "metadata": {},
   "source": [
    "We will now compute the Euclidean distance between two rows in DataFrame `df`, using all of their numerical feature values. Let us create a new DataFrame that contains only the numerically valued columns of the original `df` DataFrame."
   ]
  },
  {
   "cell_type": "code",
   "execution_count": 12,
   "metadata": {},
   "outputs": [
    {
     "name": "stdout",
     "output_type": "stream",
     "text": [
      "(51047, 36)\n"
     ]
    },
    {
     "data": {
      "text/html": [
       "<div>\n",
       "<style scoped>\n",
       "    .dataframe tbody tr th:only-of-type {\n",
       "        vertical-align: middle;\n",
       "    }\n",
       "\n",
       "    .dataframe tbody tr th {\n",
       "        vertical-align: top;\n",
       "    }\n",
       "\n",
       "    .dataframe thead th {\n",
       "        text-align: right;\n",
       "    }\n",
       "</style>\n",
       "<table border=\"1\" class=\"dataframe\">\n",
       "  <thead>\n",
       "    <tr style=\"text-align: right;\">\n",
       "      <th></th>\n",
       "      <th>CustomerID</th>\n",
       "      <th>MonthlyRevenue</th>\n",
       "      <th>MonthlyMinutes</th>\n",
       "      <th>TotalRecurringCharge</th>\n",
       "      <th>DirectorAssistedCalls</th>\n",
       "      <th>OverageMinutes</th>\n",
       "      <th>RoamingCalls</th>\n",
       "      <th>PercChangeMinutes</th>\n",
       "      <th>PercChangeRevenues</th>\n",
       "      <th>DroppedCalls</th>\n",
       "      <th>...</th>\n",
       "      <th>HandsetModels</th>\n",
       "      <th>CurrentEquipmentDays</th>\n",
       "      <th>AgeHH1</th>\n",
       "      <th>AgeHH2</th>\n",
       "      <th>RetentionCalls</th>\n",
       "      <th>RetentionOffersAccepted</th>\n",
       "      <th>ReferralsMadeBySubscriber</th>\n",
       "      <th>IncomeGroup</th>\n",
       "      <th>AdjustmentsToCreditRating</th>\n",
       "      <th>HandsetPrice</th>\n",
       "    </tr>\n",
       "  </thead>\n",
       "  <tbody>\n",
       "    <tr>\n",
       "      <th>0</th>\n",
       "      <td>3000002</td>\n",
       "      <td>-0.782676</td>\n",
       "      <td>-0.578738</td>\n",
       "      <td>-1.041153</td>\n",
       "      <td>-0.289532</td>\n",
       "      <td>-0.414422</td>\n",
       "      <td>-0.125914</td>\n",
       "      <td>-0.564836</td>\n",
       "      <td>-0.449987</td>\n",
       "      <td>-0.587303</td>\n",
       "      <td>...</td>\n",
       "      <td>0.487071</td>\n",
       "      <td>-0.077013</td>\n",
       "      <td>1.387766</td>\n",
       "      <td>-0.883541</td>\n",
       "      <td>4.662897</td>\n",
       "      <td>-0.1283</td>\n",
       "      <td>-0.169283</td>\n",
       "      <td>-0.103411</td>\n",
       "      <td>-0.140707</td>\n",
       "      <td>-0.864858</td>\n",
       "    </tr>\n",
       "    <tr>\n",
       "      <th>1</th>\n",
       "      <td>3000010</td>\n",
       "      <td>-0.940180</td>\n",
       "      <td>-0.973177</td>\n",
       "      <td>-1.250809</td>\n",
       "      <td>-0.401714</td>\n",
       "      <td>-0.414422</td>\n",
       "      <td>-0.125914</td>\n",
       "      <td>0.029311</td>\n",
       "      <td>0.030120</td>\n",
       "      <td>-0.631532</td>\n",
       "      <td>...</td>\n",
       "      <td>-0.616775</td>\n",
       "      <td>3.019920</td>\n",
       "      <td>0.392039</td>\n",
       "      <td>0.871495</td>\n",
       "      <td>-0.180167</td>\n",
       "      <td>-0.1283</td>\n",
       "      <td>-0.169283</td>\n",
       "      <td>0.215243</td>\n",
       "      <td>-0.140707</td>\n",
       "      <td>-0.864858</td>\n",
       "    </tr>\n",
       "    <tr>\n",
       "      <th>2</th>\n",
       "      <td>3000014</td>\n",
       "      <td>-0.468118</td>\n",
       "      <td>-0.976952</td>\n",
       "      <td>-0.370255</td>\n",
       "      <td>-0.401714</td>\n",
       "      <td>-0.414422</td>\n",
       "      <td>-0.125914</td>\n",
       "      <td>0.037077</td>\n",
       "      <td>0.030120</td>\n",
       "      <td>-0.664703</td>\n",
       "      <td>...</td>\n",
       "      <td>-0.616775</td>\n",
       "      <td>3.019920</td>\n",
       "      <td>-0.241605</td>\n",
       "      <td>0.202910</td>\n",
       "      <td>-0.180167</td>\n",
       "      <td>-0.1283</td>\n",
       "      <td>-0.169283</td>\n",
       "      <td>0.533896</td>\n",
       "      <td>-0.140707</td>\n",
       "      <td>-0.368174</td>\n",
       "    </tr>\n",
       "    <tr>\n",
       "      <th>3</th>\n",
       "      <td>3000022</td>\n",
       "      <td>0.526784</td>\n",
       "      <td>1.484048</td>\n",
       "      <td>1.181196</td>\n",
       "      <td>0.154708</td>\n",
       "      <td>-0.414422</td>\n",
       "      <td>-0.125914</td>\n",
       "      <td>0.654524</td>\n",
       "      <td>0.234797</td>\n",
       "      <td>4.012499</td>\n",
       "      <td>...</td>\n",
       "      <td>2.694763</td>\n",
       "      <td>0.305179</td>\n",
       "      <td>-0.060564</td>\n",
       "      <td>-0.883541</td>\n",
       "      <td>-0.180167</td>\n",
       "      <td>-0.1283</td>\n",
       "      <td>-0.169283</td>\n",
       "      <td>0.533896</td>\n",
       "      <td>-0.140707</td>\n",
       "      <td>-1.195980</td>\n",
       "    </tr>\n",
       "    <tr>\n",
       "      <th>4</th>\n",
       "      <td>3000026</td>\n",
       "      <td>-0.936810</td>\n",
       "      <td>-0.992050</td>\n",
       "      <td>-1.250809</td>\n",
       "      <td>-0.401714</td>\n",
       "      <td>-0.414422</td>\n",
       "      <td>-0.125914</td>\n",
       "      <td>0.044844</td>\n",
       "      <td>0.025066</td>\n",
       "      <td>-0.664703</td>\n",
       "      <td>...</td>\n",
       "      <td>1.590917</td>\n",
       "      <td>1.857585</td>\n",
       "      <td>0.663601</td>\n",
       "      <td>1.372934</td>\n",
       "      <td>-0.180167</td>\n",
       "      <td>-0.1283</td>\n",
       "      <td>-0.169283</td>\n",
       "      <td>1.489856</td>\n",
       "      <td>2.469282</td>\n",
       "      <td>-1.195980</td>\n",
       "    </tr>\n",
       "  </tbody>\n",
       "</table>\n",
       "<p>5 rows × 36 columns</p>\n",
       "</div>"
      ],
      "text/plain": [
       "   CustomerID  MonthlyRevenue  MonthlyMinutes  TotalRecurringCharge  \\\n",
       "0     3000002       -0.782676       -0.578738             -1.041153   \n",
       "1     3000010       -0.940180       -0.973177             -1.250809   \n",
       "2     3000014       -0.468118       -0.976952             -0.370255   \n",
       "3     3000022        0.526784        1.484048              1.181196   \n",
       "4     3000026       -0.936810       -0.992050             -1.250809   \n",
       "\n",
       "   DirectorAssistedCalls  OverageMinutes  RoamingCalls  PercChangeMinutes  \\\n",
       "0              -0.289532       -0.414422     -0.125914          -0.564836   \n",
       "1              -0.401714       -0.414422     -0.125914           0.029311   \n",
       "2              -0.401714       -0.414422     -0.125914           0.037077   \n",
       "3               0.154708       -0.414422     -0.125914           0.654524   \n",
       "4              -0.401714       -0.414422     -0.125914           0.044844   \n",
       "\n",
       "   PercChangeRevenues  DroppedCalls  ...  HandsetModels  CurrentEquipmentDays  \\\n",
       "0           -0.449987     -0.587303  ...       0.487071             -0.077013   \n",
       "1            0.030120     -0.631532  ...      -0.616775              3.019920   \n",
       "2            0.030120     -0.664703  ...      -0.616775              3.019920   \n",
       "3            0.234797      4.012499  ...       2.694763              0.305179   \n",
       "4            0.025066     -0.664703  ...       1.590917              1.857585   \n",
       "\n",
       "     AgeHH1    AgeHH2  RetentionCalls  RetentionOffersAccepted  \\\n",
       "0  1.387766 -0.883541        4.662897                  -0.1283   \n",
       "1  0.392039  0.871495       -0.180167                  -0.1283   \n",
       "2 -0.241605  0.202910       -0.180167                  -0.1283   \n",
       "3 -0.060564 -0.883541       -0.180167                  -0.1283   \n",
       "4  0.663601  1.372934       -0.180167                  -0.1283   \n",
       "\n",
       "   ReferralsMadeBySubscriber  IncomeGroup  AdjustmentsToCreditRating  \\\n",
       "0                  -0.169283    -0.103411                  -0.140707   \n",
       "1                  -0.169283     0.215243                  -0.140707   \n",
       "2                  -0.169283     0.533896                  -0.140707   \n",
       "3                  -0.169283     0.533896                  -0.140707   \n",
       "4                  -0.169283     1.489856                   2.469282   \n",
       "\n",
       "   HandsetPrice  \n",
       "0     -0.864858  \n",
       "1     -0.864858  \n",
       "2     -0.368174  \n",
       "3     -1.195980  \n",
       "4     -1.195980  \n",
       "\n",
       "[5 rows x 36 columns]"
      ]
     },
     "execution_count": 12,
     "metadata": {},
     "output_type": "execute_result"
    }
   ],
   "source": [
    "df_numerical = df.select_dtypes(include=['int64','float64'])\n",
    "\n",
    "print(df_numerical.shape)\n",
    "df_numerical.head()\n"
   ]
  },
  {
   "cell_type": "markdown",
   "metadata": {},
   "source": [
    "We will exclude the `CustomerID` column, since it contains the customer ID and is not a feature that we want to consider."
   ]
  },
  {
   "cell_type": "code",
   "execution_count": 13,
   "metadata": {},
   "outputs": [
    {
     "data": {
      "text/html": [
       "<div>\n",
       "<style scoped>\n",
       "    .dataframe tbody tr th:only-of-type {\n",
       "        vertical-align: middle;\n",
       "    }\n",
       "\n",
       "    .dataframe tbody tr th {\n",
       "        vertical-align: top;\n",
       "    }\n",
       "\n",
       "    .dataframe thead th {\n",
       "        text-align: right;\n",
       "    }\n",
       "</style>\n",
       "<table border=\"1\" class=\"dataframe\">\n",
       "  <thead>\n",
       "    <tr style=\"text-align: right;\">\n",
       "      <th></th>\n",
       "      <th>MonthlyRevenue</th>\n",
       "      <th>MonthlyMinutes</th>\n",
       "      <th>TotalRecurringCharge</th>\n",
       "      <th>DirectorAssistedCalls</th>\n",
       "      <th>OverageMinutes</th>\n",
       "      <th>RoamingCalls</th>\n",
       "      <th>PercChangeMinutes</th>\n",
       "      <th>PercChangeRevenues</th>\n",
       "      <th>DroppedCalls</th>\n",
       "      <th>BlockedCalls</th>\n",
       "      <th>...</th>\n",
       "      <th>HandsetModels</th>\n",
       "      <th>CurrentEquipmentDays</th>\n",
       "      <th>AgeHH1</th>\n",
       "      <th>AgeHH2</th>\n",
       "      <th>RetentionCalls</th>\n",
       "      <th>RetentionOffersAccepted</th>\n",
       "      <th>ReferralsMadeBySubscriber</th>\n",
       "      <th>IncomeGroup</th>\n",
       "      <th>AdjustmentsToCreditRating</th>\n",
       "      <th>HandsetPrice</th>\n",
       "    </tr>\n",
       "  </thead>\n",
       "  <tbody>\n",
       "    <tr>\n",
       "      <th>0</th>\n",
       "      <td>-0.782676</td>\n",
       "      <td>-0.578738</td>\n",
       "      <td>-1.041153</td>\n",
       "      <td>-0.289532</td>\n",
       "      <td>-0.414422</td>\n",
       "      <td>-0.125914</td>\n",
       "      <td>-0.564836</td>\n",
       "      <td>-0.449987</td>\n",
       "      <td>-0.587303</td>\n",
       "      <td>-0.309284</td>\n",
       "      <td>...</td>\n",
       "      <td>0.487071</td>\n",
       "      <td>-0.077013</td>\n",
       "      <td>1.387766</td>\n",
       "      <td>-0.883541</td>\n",
       "      <td>4.662897</td>\n",
       "      <td>-0.1283</td>\n",
       "      <td>-0.169283</td>\n",
       "      <td>-0.103411</td>\n",
       "      <td>-0.140707</td>\n",
       "      <td>-0.864858</td>\n",
       "    </tr>\n",
       "    <tr>\n",
       "      <th>1</th>\n",
       "      <td>-0.940180</td>\n",
       "      <td>-0.973177</td>\n",
       "      <td>-1.250809</td>\n",
       "      <td>-0.401714</td>\n",
       "      <td>-0.414422</td>\n",
       "      <td>-0.125914</td>\n",
       "      <td>0.029311</td>\n",
       "      <td>0.030120</td>\n",
       "      <td>-0.631532</td>\n",
       "      <td>-0.373230</td>\n",
       "      <td>...</td>\n",
       "      <td>-0.616775</td>\n",
       "      <td>3.019920</td>\n",
       "      <td>0.392039</td>\n",
       "      <td>0.871495</td>\n",
       "      <td>-0.180167</td>\n",
       "      <td>-0.1283</td>\n",
       "      <td>-0.169283</td>\n",
       "      <td>0.215243</td>\n",
       "      <td>-0.140707</td>\n",
       "      <td>-0.864858</td>\n",
       "    </tr>\n",
       "    <tr>\n",
       "      <th>2</th>\n",
       "      <td>-0.468118</td>\n",
       "      <td>-0.976952</td>\n",
       "      <td>-0.370255</td>\n",
       "      <td>-0.401714</td>\n",
       "      <td>-0.414422</td>\n",
       "      <td>-0.125914</td>\n",
       "      <td>0.037077</td>\n",
       "      <td>0.030120</td>\n",
       "      <td>-0.664703</td>\n",
       "      <td>-0.373230</td>\n",
       "      <td>...</td>\n",
       "      <td>-0.616775</td>\n",
       "      <td>3.019920</td>\n",
       "      <td>-0.241605</td>\n",
       "      <td>0.202910</td>\n",
       "      <td>-0.180167</td>\n",
       "      <td>-0.1283</td>\n",
       "      <td>-0.169283</td>\n",
       "      <td>0.533896</td>\n",
       "      <td>-0.140707</td>\n",
       "      <td>-0.368174</td>\n",
       "    </tr>\n",
       "    <tr>\n",
       "      <th>3</th>\n",
       "      <td>0.526784</td>\n",
       "      <td>1.484048</td>\n",
       "      <td>1.181196</td>\n",
       "      <td>0.154708</td>\n",
       "      <td>-0.414422</td>\n",
       "      <td>-0.125914</td>\n",
       "      <td>0.654524</td>\n",
       "      <td>0.234797</td>\n",
       "      <td>4.012499</td>\n",
       "      <td>0.330172</td>\n",
       "      <td>...</td>\n",
       "      <td>2.694763</td>\n",
       "      <td>0.305179</td>\n",
       "      <td>-0.060564</td>\n",
       "      <td>-0.883541</td>\n",
       "      <td>-0.180167</td>\n",
       "      <td>-0.1283</td>\n",
       "      <td>-0.169283</td>\n",
       "      <td>0.533896</td>\n",
       "      <td>-0.140707</td>\n",
       "      <td>-1.195980</td>\n",
       "    </tr>\n",
       "    <tr>\n",
       "      <th>4</th>\n",
       "      <td>-0.936810</td>\n",
       "      <td>-0.992050</td>\n",
       "      <td>-1.250809</td>\n",
       "      <td>-0.401714</td>\n",
       "      <td>-0.414422</td>\n",
       "      <td>-0.125914</td>\n",
       "      <td>0.044844</td>\n",
       "      <td>0.025066</td>\n",
       "      <td>-0.664703</td>\n",
       "      <td>-0.373230</td>\n",
       "      <td>...</td>\n",
       "      <td>1.590917</td>\n",
       "      <td>1.857585</td>\n",
       "      <td>0.663601</td>\n",
       "      <td>1.372934</td>\n",
       "      <td>-0.180167</td>\n",
       "      <td>-0.1283</td>\n",
       "      <td>-0.169283</td>\n",
       "      <td>1.489856</td>\n",
       "      <td>2.469282</td>\n",
       "      <td>-1.195980</td>\n",
       "    </tr>\n",
       "  </tbody>\n",
       "</table>\n",
       "<p>5 rows × 35 columns</p>\n",
       "</div>"
      ],
      "text/plain": [
       "   MonthlyRevenue  MonthlyMinutes  TotalRecurringCharge  \\\n",
       "0       -0.782676       -0.578738             -1.041153   \n",
       "1       -0.940180       -0.973177             -1.250809   \n",
       "2       -0.468118       -0.976952             -0.370255   \n",
       "3        0.526784        1.484048              1.181196   \n",
       "4       -0.936810       -0.992050             -1.250809   \n",
       "\n",
       "   DirectorAssistedCalls  OverageMinutes  RoamingCalls  PercChangeMinutes  \\\n",
       "0              -0.289532       -0.414422     -0.125914          -0.564836   \n",
       "1              -0.401714       -0.414422     -0.125914           0.029311   \n",
       "2              -0.401714       -0.414422     -0.125914           0.037077   \n",
       "3               0.154708       -0.414422     -0.125914           0.654524   \n",
       "4              -0.401714       -0.414422     -0.125914           0.044844   \n",
       "\n",
       "   PercChangeRevenues  DroppedCalls  BlockedCalls  ...  HandsetModels  \\\n",
       "0           -0.449987     -0.587303     -0.309284  ...       0.487071   \n",
       "1            0.030120     -0.631532     -0.373230  ...      -0.616775   \n",
       "2            0.030120     -0.664703     -0.373230  ...      -0.616775   \n",
       "3            0.234797      4.012499      0.330172  ...       2.694763   \n",
       "4            0.025066     -0.664703     -0.373230  ...       1.590917   \n",
       "\n",
       "   CurrentEquipmentDays    AgeHH1    AgeHH2  RetentionCalls  \\\n",
       "0             -0.077013  1.387766 -0.883541        4.662897   \n",
       "1              3.019920  0.392039  0.871495       -0.180167   \n",
       "2              3.019920 -0.241605  0.202910       -0.180167   \n",
       "3              0.305179 -0.060564 -0.883541       -0.180167   \n",
       "4              1.857585  0.663601  1.372934       -0.180167   \n",
       "\n",
       "   RetentionOffersAccepted  ReferralsMadeBySubscriber  IncomeGroup  \\\n",
       "0                  -0.1283                  -0.169283    -0.103411   \n",
       "1                  -0.1283                  -0.169283     0.215243   \n",
       "2                  -0.1283                  -0.169283     0.533896   \n",
       "3                  -0.1283                  -0.169283     0.533896   \n",
       "4                  -0.1283                  -0.169283     1.489856   \n",
       "\n",
       "   AdjustmentsToCreditRating  HandsetPrice  \n",
       "0                  -0.140707     -0.864858  \n",
       "1                  -0.140707     -0.864858  \n",
       "2                  -0.140707     -0.368174  \n",
       "3                  -0.140707     -1.195980  \n",
       "4                   2.469282     -1.195980  \n",
       "\n",
       "[5 rows x 35 columns]"
      ]
     },
     "execution_count": 13,
     "metadata": {},
     "output_type": "execute_result"
    }
   ],
   "source": [
    "df_numerical = df_numerical.drop(columns=['CustomerID'])\n",
    "df_numerical.head()"
   ]
  },
  {
   "cell_type": "markdown",
   "metadata": {},
   "source": [
    "We will compute the Euclidean distance between two examples in our data. In other words, our vectors $A$ and $B$ will be two distinct *rows* of our DataFrame `df_numerical` (which we filtered to include only numerical columns).\n",
    "\n",
    "The code cell below randomly samples two rows from the `df_numerical` dataset and stores each in new DataFrame objects named `A` and `B`, respectively."
   ]
  },
  {
   "cell_type": "code",
   "execution_count": 14,
   "metadata": {},
   "outputs": [],
   "source": [
    "A = df_numerical.sample(replace=False)\n",
    "B = df_numerical.sample(replace=False)"
   ]
  },
  {
   "cell_type": "code",
   "execution_count": 15,
   "metadata": {},
   "outputs": [
    {
     "data": {
      "text/html": [
       "<div>\n",
       "<style scoped>\n",
       "    .dataframe tbody tr th:only-of-type {\n",
       "        vertical-align: middle;\n",
       "    }\n",
       "\n",
       "    .dataframe tbody tr th {\n",
       "        vertical-align: top;\n",
       "    }\n",
       "\n",
       "    .dataframe thead th {\n",
       "        text-align: right;\n",
       "    }\n",
       "</style>\n",
       "<table border=\"1\" class=\"dataframe\">\n",
       "  <thead>\n",
       "    <tr style=\"text-align: right;\">\n",
       "      <th></th>\n",
       "      <th>MonthlyRevenue</th>\n",
       "      <th>MonthlyMinutes</th>\n",
       "      <th>TotalRecurringCharge</th>\n",
       "      <th>DirectorAssistedCalls</th>\n",
       "      <th>OverageMinutes</th>\n",
       "      <th>RoamingCalls</th>\n",
       "      <th>PercChangeMinutes</th>\n",
       "      <th>PercChangeRevenues</th>\n",
       "      <th>DroppedCalls</th>\n",
       "      <th>BlockedCalls</th>\n",
       "      <th>...</th>\n",
       "      <th>HandsetModels</th>\n",
       "      <th>CurrentEquipmentDays</th>\n",
       "      <th>AgeHH1</th>\n",
       "      <th>AgeHH2</th>\n",
       "      <th>RetentionCalls</th>\n",
       "      <th>RetentionOffersAccepted</th>\n",
       "      <th>ReferralsMadeBySubscriber</th>\n",
       "      <th>IncomeGroup</th>\n",
       "      <th>AdjustmentsToCreditRating</th>\n",
       "      <th>HandsetPrice</th>\n",
       "    </tr>\n",
       "  </thead>\n",
       "  <tbody>\n",
       "    <tr>\n",
       "      <th>40611</th>\n",
       "      <td>-0.636407</td>\n",
       "      <td>-0.782563</td>\n",
       "      <td>-0.705704</td>\n",
       "      <td>-0.289532</td>\n",
       "      <td>-0.414422</td>\n",
       "      <td>-0.125914</td>\n",
       "      <td>-0.017289</td>\n",
       "      <td>0.042754</td>\n",
       "      <td>0.109302</td>\n",
       "      <td>0.814332</td>\n",
       "      <td>...</td>\n",
       "      <td>-0.616775</td>\n",
       "      <td>-0.707432</td>\n",
       "      <td>1.749848</td>\n",
       "      <td>2.292239</td>\n",
       "      <td>-0.180167</td>\n",
       "      <td>-0.1283</td>\n",
       "      <td>-0.169283</td>\n",
       "      <td>0.852549</td>\n",
       "      <td>-0.140707</td>\n",
       "      <td>0.294071</td>\n",
       "    </tr>\n",
       "  </tbody>\n",
       "</table>\n",
       "<p>1 rows × 35 columns</p>\n",
       "</div>"
      ],
      "text/plain": [
       "       MonthlyRevenue  MonthlyMinutes  TotalRecurringCharge  \\\n",
       "40611       -0.636407       -0.782563             -0.705704   \n",
       "\n",
       "       DirectorAssistedCalls  OverageMinutes  RoamingCalls  PercChangeMinutes  \\\n",
       "40611              -0.289532       -0.414422     -0.125914          -0.017289   \n",
       "\n",
       "       PercChangeRevenues  DroppedCalls  BlockedCalls  ...  HandsetModels  \\\n",
       "40611            0.042754      0.109302      0.814332  ...      -0.616775   \n",
       "\n",
       "       CurrentEquipmentDays    AgeHH1    AgeHH2  RetentionCalls  \\\n",
       "40611             -0.707432  1.749848  2.292239       -0.180167   \n",
       "\n",
       "       RetentionOffersAccepted  ReferralsMadeBySubscriber  IncomeGroup  \\\n",
       "40611                  -0.1283                  -0.169283     0.852549   \n",
       "\n",
       "       AdjustmentsToCreditRating  HandsetPrice  \n",
       "40611                  -0.140707      0.294071  \n",
       "\n",
       "[1 rows x 35 columns]"
      ]
     },
     "execution_count": 15,
     "metadata": {},
     "output_type": "execute_result"
    }
   ],
   "source": [
    "A"
   ]
  },
  {
   "cell_type": "code",
   "execution_count": 16,
   "metadata": {},
   "outputs": [
    {
     "data": {
      "text/html": [
       "<div>\n",
       "<style scoped>\n",
       "    .dataframe tbody tr th:only-of-type {\n",
       "        vertical-align: middle;\n",
       "    }\n",
       "\n",
       "    .dataframe tbody tr th {\n",
       "        vertical-align: top;\n",
       "    }\n",
       "\n",
       "    .dataframe thead th {\n",
       "        text-align: right;\n",
       "    }\n",
       "</style>\n",
       "<table border=\"1\" class=\"dataframe\">\n",
       "  <thead>\n",
       "    <tr style=\"text-align: right;\">\n",
       "      <th></th>\n",
       "      <th>MonthlyRevenue</th>\n",
       "      <th>MonthlyMinutes</th>\n",
       "      <th>TotalRecurringCharge</th>\n",
       "      <th>DirectorAssistedCalls</th>\n",
       "      <th>OverageMinutes</th>\n",
       "      <th>RoamingCalls</th>\n",
       "      <th>PercChangeMinutes</th>\n",
       "      <th>PercChangeRevenues</th>\n",
       "      <th>DroppedCalls</th>\n",
       "      <th>BlockedCalls</th>\n",
       "      <th>...</th>\n",
       "      <th>HandsetModels</th>\n",
       "      <th>CurrentEquipmentDays</th>\n",
       "      <th>AgeHH1</th>\n",
       "      <th>AgeHH2</th>\n",
       "      <th>RetentionCalls</th>\n",
       "      <th>RetentionOffersAccepted</th>\n",
       "      <th>ReferralsMadeBySubscriber</th>\n",
       "      <th>IncomeGroup</th>\n",
       "      <th>AdjustmentsToCreditRating</th>\n",
       "      <th>HandsetPrice</th>\n",
       "    </tr>\n",
       "  </thead>\n",
       "  <tbody>\n",
       "    <tr>\n",
       "      <th>2033</th>\n",
       "      <td>-0.603828</td>\n",
       "      <td>-0.444742</td>\n",
       "      <td>-0.705704</td>\n",
       "      <td>-0.289532</td>\n",
       "      <td>-0.373008</td>\n",
       "      <td>-0.125914</td>\n",
       "      <td>-0.219221</td>\n",
       "      <td>-0.020418</td>\n",
       "      <td>-0.476731</td>\n",
       "      <td>-0.099177</td>\n",
       "      <td>...</td>\n",
       "      <td>-0.616775</td>\n",
       "      <td>2.645609</td>\n",
       "      <td>0.754122</td>\n",
       "      <td>-0.883541</td>\n",
       "      <td>-0.180167</td>\n",
       "      <td>-0.1283</td>\n",
       "      <td>-0.169283</td>\n",
       "      <td>0.852549</td>\n",
       "      <td>-0.140707</td>\n",
       "      <td>-0.368174</td>\n",
       "    </tr>\n",
       "  </tbody>\n",
       "</table>\n",
       "<p>1 rows × 35 columns</p>\n",
       "</div>"
      ],
      "text/plain": [
       "      MonthlyRevenue  MonthlyMinutes  TotalRecurringCharge  \\\n",
       "2033       -0.603828       -0.444742             -0.705704   \n",
       "\n",
       "      DirectorAssistedCalls  OverageMinutes  RoamingCalls  PercChangeMinutes  \\\n",
       "2033              -0.289532       -0.373008     -0.125914          -0.219221   \n",
       "\n",
       "      PercChangeRevenues  DroppedCalls  BlockedCalls  ...  HandsetModels  \\\n",
       "2033           -0.020418     -0.476731     -0.099177  ...      -0.616775   \n",
       "\n",
       "      CurrentEquipmentDays    AgeHH1    AgeHH2  RetentionCalls  \\\n",
       "2033              2.645609  0.754122 -0.883541       -0.180167   \n",
       "\n",
       "      RetentionOffersAccepted  ReferralsMadeBySubscriber  IncomeGroup  \\\n",
       "2033                  -0.1283                  -0.169283     0.852549   \n",
       "\n",
       "      AdjustmentsToCreditRating  HandsetPrice  \n",
       "2033                  -0.140707     -0.368174  \n",
       "\n",
       "[1 rows x 35 columns]"
      ]
     },
     "execution_count": 16,
     "metadata": {},
     "output_type": "execute_result"
    }
   ],
   "source": [
    "B"
   ]
  },
  {
   "cell_type": "markdown",
   "metadata": {},
   "source": [
    "## Step 2: Compute the Euclidean Distance Between Two Vectors Using Python"
   ]
  },
  {
   "cell_type": "markdown",
   "metadata": {},
   "source": [
    "We will first implement a function that finds the Euclidean distance in Python. Since we will be working with Python, let us convert DataFrames `A` and `B` into Python lists."
   ]
  },
  {
   "cell_type": "code",
   "execution_count": 17,
   "metadata": {},
   "outputs": [
    {
     "data": {
      "text/plain": [
       "[-0.6364067904851536,\n",
       " -0.7825630029746675,\n",
       " -0.7057044085036588,\n",
       " -0.2895319878023146,\n",
       " -0.4144215294424303,\n",
       " -0.1259135548660268,\n",
       " -0.01728885468965029,\n",
       " 0.04275439848399957,\n",
       " 0.10930176240628972,\n",
       " 0.8143320517615791,\n",
       " -0.5218921213176658,\n",
       " -0.2293914867075399,\n",
       " 0.6001734193314641,\n",
       " -0.6252850440705121,\n",
       " -0.1442171956341023,\n",
       " -0.3707074464124162,\n",
       " -0.5960136781038947,\n",
       " -0.5708869917556858,\n",
       " 0.6327170319288842,\n",
       " -0.020662564533263195,\n",
       " -0.3295397355456733,\n",
       " -1.1996136746785575,\n",
       " -0.4349915896814615,\n",
       " -0.5245829903418487,\n",
       " 0.14600359624956538,\n",
       " -0.6167750550310884,\n",
       " -0.7074318256816676,\n",
       " 1.7498482588251236,\n",
       " 2.2922386054075847,\n",
       " -0.18016687925557376,\n",
       " -0.12830030819753901,\n",
       " -0.16928338528385997,\n",
       " 0.8525494747501462,\n",
       " -0.14070742066769315,\n",
       " 0.2940709542482454]"
      ]
     },
     "execution_count": 17,
     "metadata": {},
     "output_type": "execute_result"
    }
   ],
   "source": [
    "list_A = A.values.flatten().tolist()\n",
    "list_B = B.values.flatten().tolist()\n",
    "\n",
    "list_A\n"
   ]
  },
  {
   "cell_type": "markdown",
   "metadata": {},
   "source": [
    "Using the definition above, complete the function below that returns the Euclidean distance between its two list inputs. <br>\n",
    "\n",
    "You will use a traditional `for` loop to handle the computation for each pair of i-th coordinates of the two input lists (You can think of each pair as a 'column' in a DataFrame with just two rows -- $A$ and $B$.). \n",
    "\n",
    "<b>Tip</b>: to compute the square root, use the Python `math.sqrt()` function."
   ]
  },
  {
   "cell_type": "markdown",
   "metadata": {},
   "source": [
    "### Graded Cell\n",
    "The cell below will be graded. Remove the line \"raise NotImplementedError()\" before writing your code."
   ]
  },
  {
   "cell_type": "code",
   "execution_count": 18,
   "metadata": {
    "deletable": false,
    "nbgrader": {
     "checksum": "b4d9ce17550d66b1d4623531ec18872f",
     "grade": false,
     "grade_id": "cell-9b3d005cee49b721",
     "locked": false,
     "schema_version": 1,
     "solution": true
    }
   },
   "outputs": [],
   "source": [
    "def euclidean_distance(vector1 , vector2):\n",
    "    ## the sum_squares variable will contain the current value of the sum of squares of each i-th coordinate pair\n",
    "    sum_squares = 0\n",
    "    \n",
    "    numberOfIterations = len(vector1)\n",
    "    \n",
    "    ## TODO: Complete loop below ## \n",
    "    \n",
    "    # The number of times the loop will be executed is the length of the vectors.\n",
    "    # \n",
    "    # At each loop iteration, you will:\n",
    "    #  Step 1. index into each vector and find the difference between the ith element in vector2 and vector1 \n",
    "    #  Step 2. square the difference\n",
    "    #  Step 3. update the value of the 'sum_squares' variable by adding the result in Step 2 to \n",
    "    #          the existing value of sum_squares\n",
    "    \n",
    "\n",
    "    for i in range(numberOfIterations):\n",
    "        \n",
    "        # Inside this loop follow steps 1-3 to update the value of the 'sum_squares' variable by\n",
    "        # adding the squared difference of the i'th coordinate pair to the sum.\n",
    "        \n",
    "\n",
    "        # YOUR CODE HERE\n",
    "        diff = vector1[i] - vector2[i]\n",
    "        square_diff = diff**2\n",
    "        sum_squares += square_diff\n",
    "        \n",
    "\n",
    "    ### TODO: Compute the Distance ###  \n",
    "    \n",
    "    # Compute the square root of the variable 'sum_squares' and assign \n",
    "    # that result to a new variable named 'distance'\n",
    "    \n",
    "    # YOUR CODE HERE\n",
    "    distance = math.sqrt(sum_squares)\n",
    "    \n",
    "    # return the Euclidean distance\n",
    "    return distance"
   ]
  },
  {
   "cell_type": "markdown",
   "metadata": {},
   "source": [
    "### Self-Check\n",
    "\n",
    "Run the cell below to test the correctness of your code above before submitting for grading. Do not add code or delete code in the cell."
   ]
  },
  {
   "cell_type": "code",
   "execution_count": 19,
   "metadata": {
    "deletable": false,
    "editable": false,
    "nbgrader": {
     "checksum": "edf1a4feaa4928ed2eaf3423bb488285",
     "grade": true,
     "grade_id": "cell-f034049af7f30a8a",
     "locked": true,
     "points": 3,
     "schema_version": 1,
     "solution": false
    }
   },
   "outputs": [
    {
     "name": "stdout",
     "output_type": "stream",
     "text": [
      "Correct!\n"
     ]
    }
   ],
   "source": [
    "# Run this self-test cell to check your code; \n",
    "# do not add code or delete code in this cell\n",
    "from jn import testFunction\n",
    "\n",
    "try:\n",
    "    p, err = testFunction(euclidean_distance)\n",
    "    print(err)\n",
    "except Exception as e:\n",
    "    print(\"Error!\\n\" + str(e))\n",
    "    \n"
   ]
  },
  {
   "cell_type": "markdown",
   "metadata": {},
   "source": [
    "The code cell below tests your function. Run the cell to view the results."
   ]
  },
  {
   "cell_type": "code",
   "execution_count": 20,
   "metadata": {},
   "outputs": [
    {
     "data": {
      "text/plain": [
       "6.318627232503098"
      ]
     },
     "execution_count": 20,
     "metadata": {},
     "output_type": "execute_result"
    }
   ],
   "source": [
    "euclidean_distance(list_A, list_B)\n"
   ]
  },
  {
   "cell_type": "markdown",
   "metadata": {},
   "source": [
    "## Step 3: Compute the Euclidean Distance Between Two Vectors Using NumPy "
   ]
  },
  {
   "cell_type": "markdown",
   "metadata": {},
   "source": [
    "The NumPy package provides an easy way to compute the Euclidean distance between two vectors. NumPy has a `norm()` function, which is part of a linear algebra module called `linalg.` You can call the function using this syntax: `np.linalg.norm()`. The `norm([vector_name])`finds a vector norm. A vector has both magnitude and direction, and calculating the vector norm finds the magnitude.\n",
    "\n",
    "By default, the `norm()` function calculates the L2 norm, also known as the Euclidean norm since it calculates the Euclidean distance. We can therefore use the  `norm()` function to calculate the distance between two vectors.\n",
    "\n",
    "The `norm()` function requires that its input vectors be of type NumPy array. The code cell below converts DataFrame `A` and `B` to NumPy arrays and uses the `norm()` function to find the Euclidean distance. \n",
    "\n",
    "Run the cell below and compare the results. Is the Euclidean distance the same value as what your function `euclidean_distance` produces? Try using the `norm()` function to find the Euclidean distance between the vectors `vector_A` and `vector_B` as well.\n",
    "\n"
   ]
  },
  {
   "cell_type": "code",
   "execution_count": 21,
   "metadata": {},
   "outputs": [
    {
     "data": {
      "text/plain": [
       "6.318627232503098"
      ]
     },
     "execution_count": 21,
     "metadata": {},
     "output_type": "execute_result"
    }
   ],
   "source": [
    "array1 = np.array(A)\n",
    "array2 = np.array(B)\n",
    "np.linalg.norm(array2-array1)\n"
   ]
  },
  {
   "cell_type": "markdown",
   "metadata": {},
   "source": [
    "You can see how easy it is to find the Euclidean distance between two vectors, or examples using NumPy! For more information about the `norm()` function, consult the online [documentation](https://numpy.org/doc/stable/reference/generated/numpy.linalg.norm.html)."
   ]
  }
 ],
 "metadata": {
  "kernelspec": {
   "display_name": "Python 3",
   "language": "python",
   "name": "python3"
  },
  "language_info": {
   "codemirror_mode": {
    "name": "ipython",
    "version": 3
   },
   "file_extension": ".py",
   "mimetype": "text/x-python",
   "name": "python",
   "nbconvert_exporter": "python",
   "pygments_lexer": "ipython3",
   "version": "3.6.9"
  },
  "toc": {
   "base_numbering": 1,
   "nav_menu": {},
   "number_sections": false,
   "sideBar": true,
   "skip_h1_title": false,
   "title_cell": "Table of Contents",
   "title_sidebar": "Contents",
   "toc_cell": false,
   "toc_position": {},
   "toc_section_display": true,
   "toc_window_display": false
  },
  "varInspector": {
   "cols": {
    "lenName": 16,
    "lenType": 16,
    "lenVar": 40
   },
   "kernels_config": {
    "python": {
     "delete_cmd_postfix": "",
     "delete_cmd_prefix": "del ",
     "library": "var_list.py",
     "varRefreshCmd": "print(var_dic_list())"
    },
    "r": {
     "delete_cmd_postfix": ") ",
     "delete_cmd_prefix": "rm(",
     "library": "var_list.r",
     "varRefreshCmd": "cat(var_dic_list()) "
    }
   },
   "types_to_exclude": [
    "module",
    "function",
    "builtin_function_or_method",
    "instance",
    "_Feature"
   ],
   "window_display": false
  }
 },
 "nbformat": 4,
 "nbformat_minor": 2
}
