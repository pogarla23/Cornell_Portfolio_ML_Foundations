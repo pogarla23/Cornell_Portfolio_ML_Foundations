{
 "cells": [
  {
   "cell_type": "markdown",
   "id": "9ee36151",
   "metadata": {},
   "source": [
    "## Pandas: Creating & Viewing Data\n",
    "\n",
    "Pandas is a popular package in the Python Machine Learning ecosystem. It is used for data manipulation and analysis and offers many unique features. Pandas is tailored toward working with structured, tabular data, such as the kind of data that you would find in spreadsheets and in relational databases. \n",
    "\n",
    "One of Pandas' core data structures is called the DataFrame, which is a two-dimensional table in which data is organized in rows and columns.\n",
    "Pandas is well integrated in the Python Machine Learning ecosystem. Many common ML libraries work with Pandas DataFrames, allowing for a seamless transition from data preparation to model building.\n",
    "\n",
    "Pandas is the primary package we will use in this program to operate on data. In this exercise you will use Pandas to practice creating data, accessing and viewing data.\n",
    "\n",
    "For more information about the Pandas package and Pandas DataFrames, consult the Pandas online [API Reference](https://pandas.pydata.org/docs/reference/index.html)."
   ]
  },
  {
   "cell_type": "markdown",
   "id": "f434024b",
   "metadata": {},
   "source": [
    "## Step 1\n",
    "\n",
    "The code cell below imports the `pandas` package, using its conventional shorthand name, `pd`. It then imports the `numpy` package using its conventional shorthand name, `np`. Run the cell below."
   ]
  },
  {
   "cell_type": "code",
   "execution_count": 1,
   "id": "1319b0b9",
   "metadata": {},
   "outputs": [],
   "source": [
    "import pandas as pd\n",
    "import numpy as np"
   ]
  },
  {
   "cell_type": "markdown",
   "id": "98b780e8",
   "metadata": {},
   "source": [
    "## Step 2\n",
    "\n",
    "In the code cell below, use numpy's `np.random.normal()` function to create two arrays, each with size=100, loc=0.0, and scale=1.0. Name your arrays `a` and `b`.\n",
    "\n",
    "\n",
    "If you would like to learn how to use the `np.random.normal()` function, use the help <b>?</b> functionality by running the line `np.random.normal?` in the code cell below. Recall that you can use help by specifying the function name (in this case, `np.random.normal`), followed by `?`. You can also access the online [documentation](https://numpy.org/doc/stable/reference/random/generated/numpy.random.normal.html).\n",
    "\n"
   ]
  },
  {
   "cell_type": "markdown",
   "id": "7703f0dd",
   "metadata": {},
   "source": [
    "### Graded Cell\n",
    "\n",
    "The cell below will be graded. Remove the line \"raise NotImplementedError()\" before writing your code."
   ]
  },
  {
   "cell_type": "code",
   "execution_count": 2,
   "id": "40ebb36f",
   "metadata": {
    "deletable": false,
    "nbgrader": {
     "checksum": "ee34189787d27b0e4cfc16d497ebc2f7",
     "grade": false,
     "grade_id": "cell-a-b",
     "locked": false,
     "schema_version": 1,
     "solution": true
    }
   },
   "outputs": [],
   "source": [
    "a = np.random.normal(size = 100, loc = 0.0, scale=1.0)\n",
    "b = np.random.normal(size = 100, loc = 0.0, scale=1.0)"
   ]
  },
  {
   "cell_type": "markdown",
   "id": "351d32ae",
   "metadata": {},
   "source": [
    "### Self-Check\n",
    "\n",
    "Run the cell below to test the correctness of your code above before submitting for grading. Do not add code or delete code in the cell."
   ]
  },
  {
   "cell_type": "code",
   "execution_count": 3,
   "id": "901fad91",
   "metadata": {
    "deletable": false,
    "editable": false,
    "nbgrader": {
     "checksum": "cb20f6f7fabe601393f74b7a0a3b0805",
     "grade": true,
     "grade_id": "cell-a-b-test",
     "locked": true,
     "points": 1,
     "schema_version": 1,
     "solution": false
    }
   },
   "outputs": [
    {
     "name": "stdout",
     "output_type": "stream",
     "text": [
      "Correct!\n"
     ]
    }
   ],
   "source": [
    "# Run this self-test cell to check your code; \n",
    "# do not add code or delete code in this cell\n",
    "from jn import testAB\n",
    "\n",
    "try:\n",
    "    p, err = testAB(a,b)\n",
    "    print(err)\n",
    "except Exception as e:\n",
    "    print(\"Error!\\n\" + str(e))\n",
    "    \n"
   ]
  },
  {
   "cell_type": "markdown",
   "id": "0e7eb12f",
   "metadata": {},
   "source": [
    "## Step 3\n",
    "\n",
    "Now we'll convert our data to a Pandas DataFrame. The `DataFrame()` function is the primary way to create DataFrames. You will use this approach to create a DataFrame out of the two arrays created in the previous step. \n",
    "\n",
    "Your DataFrame will contain two columns, named `x1` and `x2`.\n",
    "\n",
    "1: First create a Python dictionary in which the keys are the names of the columns you want to create, and the values are the arrays. Column `x1` will contain array `a` and column `x2` will contain array `b`. Assign this dictionary to variable `d`.\n",
    "\n",
    "2: Next use the `pd.DataFrame()` function to convert dictionary `d` to a DataFrame, and assign the result to variable `df`.\n",
    "\n",
    "For more information on how to use the `DataFrame()` function, consult the online [documentation](https://pandas.pydata.org/docs/reference/api/pandas.DataFrame.html#pandas.DataFrame)."
   ]
  },
  {
   "cell_type": "markdown",
   "id": "e31c3095",
   "metadata": {},
   "source": [
    "### Graded Cell\n",
    "\n",
    "The cell below will be graded. Remove the line \"raise NotImplementedError()\" before writing your code."
   ]
  },
  {
   "cell_type": "code",
   "execution_count": 4,
   "id": "533103e6",
   "metadata": {
    "deletable": false,
    "nbgrader": {
     "checksum": "03e92bb3bc377629072eafb372f2e22f",
     "grade": false,
     "grade_id": "cell-df",
     "locked": false,
     "schema_version": 1,
     "solution": true
    }
   },
   "outputs": [],
   "source": [
    "d = {'x1':a,'x2':b}\n",
    "df = pd.DataFrame(d)\n"
   ]
  },
  {
   "cell_type": "markdown",
   "id": "932e297e",
   "metadata": {},
   "source": [
    "### Self-Check\n",
    "\n",
    "Run the cell below to test the correctness of your code above before submitting for grading. Do not add code or delete code in the cell."
   ]
  },
  {
   "cell_type": "code",
   "execution_count": 5,
   "id": "37c15f5c",
   "metadata": {
    "deletable": false,
    "editable": false,
    "nbgrader": {
     "checksum": "435674309e871e93dece73fc69184e14",
     "grade": true,
     "grade_id": "cell-df-test",
     "locked": true,
     "points": 2,
     "schema_version": 1,
     "solution": false
    }
   },
   "outputs": [
    {
     "name": "stdout",
     "output_type": "stream",
     "text": [
      "Correct!\n"
     ]
    }
   ],
   "source": [
    "# Run this self-test cell to check your code; \n",
    "# do not add code or delete code in this cell\n",
    "from jn import testDf\n",
    "\n",
    "try:\n",
    "    p, err = testDf(d,df,a,b)\n",
    "    print(err)\n",
    "except Exception as e:\n",
    "    print(\"Error!\\n\" + str(e))\n",
    "    \n"
   ]
  },
  {
   "cell_type": "markdown",
   "id": "2c858903",
   "metadata": {},
   "source": [
    "### Step 4\n",
    "\n",
    "The Pandas `head()` method allows you to view the first <i>n</i> rows in a DataFrame. The syntax is `DataFrame_obj.head()`. You can consult the [online documentation](https://pandas.pydata.org/docs/reference/api/pandas.DataFrame.head.html) to see how to use this method. You can also use IPython's `help` functionality by typing `df.head?` in the cell below. Recall that you can obtain documentation by specifying the object name (in this case, `df`), followed by the method or property (in this case, `head`), followed by `?`.\n",
    "\n",
    "\n",
    "In the code cell below, use the `head()` method to view the first 5 rows of dataframe `df`.\n"
   ]
  },
  {
   "cell_type": "code",
   "execution_count": 7,
   "id": "b1c304e6",
   "metadata": {},
   "outputs": [
    {
     "data": {
      "text/html": [
       "<div>\n",
       "<style scoped>\n",
       "    .dataframe tbody tr th:only-of-type {\n",
       "        vertical-align: middle;\n",
       "    }\n",
       "\n",
       "    .dataframe tbody tr th {\n",
       "        vertical-align: top;\n",
       "    }\n",
       "\n",
       "    .dataframe thead th {\n",
       "        text-align: right;\n",
       "    }\n",
       "</style>\n",
       "<table border=\"1\" class=\"dataframe\">\n",
       "  <thead>\n",
       "    <tr style=\"text-align: right;\">\n",
       "      <th></th>\n",
       "      <th>x1</th>\n",
       "      <th>x2</th>\n",
       "    </tr>\n",
       "  </thead>\n",
       "  <tbody>\n",
       "    <tr>\n",
       "      <th>0</th>\n",
       "      <td>-1.889809</td>\n",
       "      <td>-0.951826</td>\n",
       "    </tr>\n",
       "    <tr>\n",
       "      <th>1</th>\n",
       "      <td>-0.628450</td>\n",
       "      <td>-0.743126</td>\n",
       "    </tr>\n",
       "    <tr>\n",
       "      <th>2</th>\n",
       "      <td>0.849815</td>\n",
       "      <td>0.057101</td>\n",
       "    </tr>\n",
       "    <tr>\n",
       "      <th>3</th>\n",
       "      <td>-0.315230</td>\n",
       "      <td>1.461830</td>\n",
       "    </tr>\n",
       "    <tr>\n",
       "      <th>4</th>\n",
       "      <td>0.620940</td>\n",
       "      <td>1.208886</td>\n",
       "    </tr>\n",
       "  </tbody>\n",
       "</table>\n",
       "</div>"
      ],
      "text/plain": [
       "         x1        x2\n",
       "0 -1.889809 -0.951826\n",
       "1 -0.628450 -0.743126\n",
       "2  0.849815  0.057101\n",
       "3 -0.315230  1.461830\n",
       "4  0.620940  1.208886"
      ]
     },
     "execution_count": 7,
     "metadata": {},
     "output_type": "execute_result"
    }
   ],
   "source": [
    "# YOUR CODE HERE - this cell will not be graded\n",
    "df.head()"
   ]
  },
  {
   "cell_type": "markdown",
   "id": "1dc6fe75",
   "metadata": {},
   "source": [
    "### DataFrame Indexing and Slicing\n",
    "\n",
    "As you have seen, DataFrames are two-dimensional tables, labeled by row and column names, containing a set of column-oriented data such that each column has a particular datatype (dtype). Like Python lists, Pandas DataFrames use 0-based indexing. That is, the first row in a DataFrame has an index of 0 and the first column in a DataFrame has an index of 0.\n",
    "\n",
    "You may be familiar with indexing, which is the process of accessing elements of data in a data structure such as a list or a dictionary by specifying which element(s) one is interested in. Just as you can index into Python lists and dictionaries, you can also index into Pandas DataFrames. Because DataFrames have row and column labels (names), Pandas provides a very useful ability to index, either based on those labels or on the positions of rows and columns. For example: Python lists and NumPy arrays are indexed by integer position (e.g., ```my_list[3]``` or ```my_array[5,7]```), while Python dictionaries are indexed by keys (e.g., ```my_dict['name']```).  Because Pandas DataFrames contain data in a positional order, *and* have row and column labels, they can be indexed both by position and by label. You can also \"slice\" a Pandas DataFrame. Slicing allows you to select a subset of rows or columns from the DataFrame. Just as with Python lists, slicing is supported using the colon operator ```:``` (you can also use the colon operator to slice into NumPy arrays).\n",
    "\n",
    "\n",
    "#### Mechanisms for indexing and Slicing\n",
    "\n",
    "Indexing and slicing DataFrames can be done through various mechanisms: \n",
    "\n",
    "* ```[]```\n",
    "* ```loc[]```\n",
    "* ```iloc[]```\n",
    "\n",
    "\n",
    "The first of these, ```[]```, is the square-bracket based indexing that we are familiar with from Python lists and  dictionaries.  Because Pandas DataFrames are generally column-oriented, however, indexing with square brackets results in selecting a particular column based on its label. Each column in the DataFrame is of the Pandas Series datatype, which is a one-dimensional array, similar to a NumPy array. We can loosely think of a DataFrame as something like a dictionary of Series objects: each column label is like a key, and the value associated with that key is the data in that particular column, which is a Pandas Series.  For example, ```df['x2']``` will extract the column labeled 'x2' and will return a Series. \n",
    "\n",
    "You can slice a DataFrame using square-bracket based indexing. This will allow you to slice the rows in the DataFrame using an integer range. For example, `df[:3]` will return the first three rows in the DataFrame.\n",
    "\n",
    "Indexing and slicing a DataFrame using ```loc``` is more general, in that it enables you to access both rows and columns based on their labels.  It uses the same sort of multi-dimensional indexing that you may have seen with other data structures (e.g. `[][]`), although with row and/or column labels rather than integer positional indexes.  By this we mean that the first entry in an index refers to row label, and the second index refers to a column label.  If only one entry is specified, it is used to identify a row in a DataFrame. The syntax for `loc` is `DataFrame_obj.loc[]` or `DataFrame_obj.loc[][]`. \n",
    "\n",
    "On the other hand, `iloc` allows you to access rows and columns with specific integer positions (integer-based indexing). The syntax for `iloc` is `DataFrame_obj.iloc[]` or `DataFrame_obj.iloc[][]`.\n",
    "\n",
    "\n",
    "In the steps below, you will practice indexing and slicing a DataFrame using some of the above methods.  Online Pandas documentation describing indexing and slicing in great detail can be found [here](https://pandas.pydata.org/pandas-docs/stable/user_guide/indexing.html).\n",
    "\n",
    "\n"
   ]
  },
  {
   "cell_type": "markdown",
   "id": "8bc1d617",
   "metadata": {},
   "source": [
    "### Step 5\n",
    "\n",
    "Add a new column to your `df` DataFrame. You can add this new column to `df` by:\n",
    "1. using bracket notation and specifying the label of the new column: <code>df['new_column_label']</code>\n",
    "2. assigning it the values of the column: \n",
    "<code>df['new_column_label'] = column values</code>\n",
    "\n",
    "\n",
    "Name your new column <b>x3</b>.  Column <b>x3</b> will consist of the sum of the values in column <b>x1</b> and column <b>x2</b>. Hint: You can access each column using bracket notation as seen above, and you can add entire columns together using the addition operation (`+`).\n",
    "\n",
    "After you have added the new column `x3` to DataFrame `df`, use the `head()` method to examine the new values in `df`.\n"
   ]
  },
  {
   "cell_type": "markdown",
   "id": "65c8db12",
   "metadata": {},
   "source": [
    "### Graded Cell\n",
    "\n",
    "The cell below will be graded. Remove the line \"raise NotImplementedError()\" before writing your code."
   ]
  },
  {
   "cell_type": "code",
   "execution_count": 11,
   "id": "95e756c5",
   "metadata": {
    "deletable": false,
    "nbgrader": {
     "checksum": "4c3d49749599ff1b250540fd6b1c6c5f",
     "grade": false,
     "grade_id": "cell-columnx3",
     "locked": false,
     "schema_version": 1,
     "solution": true
    }
   },
   "outputs": [
    {
     "data": {
      "text/html": [
       "<div>\n",
       "<style scoped>\n",
       "    .dataframe tbody tr th:only-of-type {\n",
       "        vertical-align: middle;\n",
       "    }\n",
       "\n",
       "    .dataframe tbody tr th {\n",
       "        vertical-align: top;\n",
       "    }\n",
       "\n",
       "    .dataframe thead th {\n",
       "        text-align: right;\n",
       "    }\n",
       "</style>\n",
       "<table border=\"1\" class=\"dataframe\">\n",
       "  <thead>\n",
       "    <tr style=\"text-align: right;\">\n",
       "      <th></th>\n",
       "      <th>x1</th>\n",
       "      <th>x2</th>\n",
       "      <th>x3</th>\n",
       "    </tr>\n",
       "  </thead>\n",
       "  <tbody>\n",
       "    <tr>\n",
       "      <th>0</th>\n",
       "      <td>-1.889809</td>\n",
       "      <td>-0.951826</td>\n",
       "      <td>-2.841635</td>\n",
       "    </tr>\n",
       "    <tr>\n",
       "      <th>1</th>\n",
       "      <td>-0.628450</td>\n",
       "      <td>-0.743126</td>\n",
       "      <td>-1.371577</td>\n",
       "    </tr>\n",
       "    <tr>\n",
       "      <th>2</th>\n",
       "      <td>0.849815</td>\n",
       "      <td>0.057101</td>\n",
       "      <td>0.906917</td>\n",
       "    </tr>\n",
       "    <tr>\n",
       "      <th>3</th>\n",
       "      <td>-0.315230</td>\n",
       "      <td>1.461830</td>\n",
       "      <td>1.146599</td>\n",
       "    </tr>\n",
       "    <tr>\n",
       "      <th>4</th>\n",
       "      <td>0.620940</td>\n",
       "      <td>1.208886</td>\n",
       "      <td>1.829826</td>\n",
       "    </tr>\n",
       "  </tbody>\n",
       "</table>\n",
       "</div>"
      ],
      "text/plain": [
       "         x1        x2        x3\n",
       "0 -1.889809 -0.951826 -2.841635\n",
       "1 -0.628450 -0.743126 -1.371577\n",
       "2  0.849815  0.057101  0.906917\n",
       "3 -0.315230  1.461830  1.146599\n",
       "4  0.620940  1.208886  1.829826"
      ]
     },
     "execution_count": 11,
     "metadata": {},
     "output_type": "execute_result"
    }
   ],
   "source": [
    "df['x3'] = df['x1']+df['x2']\n",
    "df.head()"
   ]
  },
  {
   "cell_type": "markdown",
   "id": "ac0f0868",
   "metadata": {},
   "source": [
    "### Self-Check\n",
    "\n",
    "Run the cell below to test the correctness of your code above before submitting for grading. Do not add code or delete code in the cell."
   ]
  },
  {
   "cell_type": "code",
   "execution_count": 12,
   "id": "4627c339",
   "metadata": {
    "deletable": false,
    "editable": false,
    "nbgrader": {
     "checksum": "8ecd6ff2e99854b55e490a6334700801",
     "grade": true,
     "grade_id": "cell-columnx3-test",
     "locked": true,
     "points": 2,
     "schema_version": 1,
     "solution": false
    }
   },
   "outputs": [
    {
     "name": "stdout",
     "output_type": "stream",
     "text": [
      "Correct!\n"
     ]
    }
   ],
   "source": [
    "# Run this self-test cell to check your code; \n",
    "# do not add code or delete code in this cell\n",
    "from jn import testCol\n",
    "\n",
    "try:\n",
    "    p, err = testCol(df)\n",
    "    print(err)\n",
    "except Exception as e:\n",
    "    print(\"Error!\\n\" + str(e))\n",
    "    \n"
   ]
  },
  {
   "cell_type": "markdown",
   "id": "4d269dc7",
   "metadata": {},
   "source": [
    "### Step 6\n",
    "\n",
    "Oftentimes you may want to access a value in a specific example (row) in your DataFrame. Run the code cell below and examine the values in DataFrame `df`. Note the value in column <b>x1</b> of row <b>5</b> (row with the index of 5).\n"
   ]
  },
  {
   "cell_type": "code",
   "execution_count": 13,
   "id": "e0178833",
   "metadata": {},
   "outputs": [
    {
     "data": {
      "text/html": [
       "<div>\n",
       "<style scoped>\n",
       "    .dataframe tbody tr th:only-of-type {\n",
       "        vertical-align: middle;\n",
       "    }\n",
       "\n",
       "    .dataframe tbody tr th {\n",
       "        vertical-align: top;\n",
       "    }\n",
       "\n",
       "    .dataframe thead th {\n",
       "        text-align: right;\n",
       "    }\n",
       "</style>\n",
       "<table border=\"1\" class=\"dataframe\">\n",
       "  <thead>\n",
       "    <tr style=\"text-align: right;\">\n",
       "      <th></th>\n",
       "      <th>x1</th>\n",
       "      <th>x2</th>\n",
       "      <th>x3</th>\n",
       "    </tr>\n",
       "  </thead>\n",
       "  <tbody>\n",
       "    <tr>\n",
       "      <th>0</th>\n",
       "      <td>-1.889809</td>\n",
       "      <td>-0.951826</td>\n",
       "      <td>-2.841635</td>\n",
       "    </tr>\n",
       "    <tr>\n",
       "      <th>1</th>\n",
       "      <td>-0.628450</td>\n",
       "      <td>-0.743126</td>\n",
       "      <td>-1.371577</td>\n",
       "    </tr>\n",
       "    <tr>\n",
       "      <th>2</th>\n",
       "      <td>0.849815</td>\n",
       "      <td>0.057101</td>\n",
       "      <td>0.906917</td>\n",
       "    </tr>\n",
       "    <tr>\n",
       "      <th>3</th>\n",
       "      <td>-0.315230</td>\n",
       "      <td>1.461830</td>\n",
       "      <td>1.146599</td>\n",
       "    </tr>\n",
       "    <tr>\n",
       "      <th>4</th>\n",
       "      <td>0.620940</td>\n",
       "      <td>1.208886</td>\n",
       "      <td>1.829826</td>\n",
       "    </tr>\n",
       "    <tr>\n",
       "      <th>5</th>\n",
       "      <td>-1.500180</td>\n",
       "      <td>0.282186</td>\n",
       "      <td>-1.217994</td>\n",
       "    </tr>\n",
       "  </tbody>\n",
       "</table>\n",
       "</div>"
      ],
      "text/plain": [
       "         x1        x2        x3\n",
       "0 -1.889809 -0.951826 -2.841635\n",
       "1 -0.628450 -0.743126 -1.371577\n",
       "2  0.849815  0.057101  0.906917\n",
       "3 -0.315230  1.461830  1.146599\n",
       "4  0.620940  1.208886  1.829826\n",
       "5 -1.500180  0.282186 -1.217994"
      ]
     },
     "execution_count": 13,
     "metadata": {},
     "output_type": "execute_result"
    }
   ],
   "source": [
    "df.head(6)"
   ]
  },
  {
   "cell_type": "markdown",
   "id": "9d78c764",
   "metadata": {},
   "source": [
    "Pandas allows you to retrieve this value. It allows you to access a row as if it were a list using either `iloc` or `loc`. You can specify the column and row by using bracket notation and supplying either the label when using `loc` or its numerical index position when using `iloc`. \n",
    "\n",
    "Examine the code in the cells below and run the cells to see the results. Notice that they both return the expected value."
   ]
  },
  {
   "cell_type": "code",
   "execution_count": 14,
   "id": "9321a108",
   "metadata": {},
   "outputs": [
    {
     "data": {
      "text/plain": [
       "-1.5001800391125704"
      ]
     },
     "execution_count": 14,
     "metadata": {},
     "output_type": "execute_result"
    }
   ],
   "source": [
    "# Note that while loc accesses rows based on their labels (names), the code is using an integer value to \n",
    "# access the row. \n",
    "# This is because in DataFrame df, a row's label is the same as its numerical index position.\n",
    "# Therefore loc is using the label of 5 to access the row\n",
    "\n",
    "df.loc[5]['x1']"
   ]
  },
  {
   "cell_type": "code",
   "execution_count": 15,
   "id": "fc7112a0",
   "metadata": {},
   "outputs": [
    {
     "data": {
      "text/plain": [
       "-1.5001800391125704"
      ]
     },
     "execution_count": 15,
     "metadata": {},
     "output_type": "execute_result"
    }
   ],
   "source": [
    "df.iloc[5][0]"
   ]
  },
  {
   "cell_type": "markdown",
   "id": "4eb8b726",
   "metadata": {},
   "source": [
    "### Step 7\n",
    "\n",
    "You can also access a subset of rows and columns in a DataFrame using slicing. The code cell below retrieves the rows starting at row 10 and ending at row 13."
   ]
  },
  {
   "cell_type": "code",
   "execution_count": 16,
   "id": "648d0ddf",
   "metadata": {},
   "outputs": [
    {
     "data": {
      "text/html": [
       "<div>\n",
       "<style scoped>\n",
       "    .dataframe tbody tr th:only-of-type {\n",
       "        vertical-align: middle;\n",
       "    }\n",
       "\n",
       "    .dataframe tbody tr th {\n",
       "        vertical-align: top;\n",
       "    }\n",
       "\n",
       "    .dataframe thead th {\n",
       "        text-align: right;\n",
       "    }\n",
       "</style>\n",
       "<table border=\"1\" class=\"dataframe\">\n",
       "  <thead>\n",
       "    <tr style=\"text-align: right;\">\n",
       "      <th></th>\n",
       "      <th>x1</th>\n",
       "      <th>x2</th>\n",
       "      <th>x3</th>\n",
       "    </tr>\n",
       "  </thead>\n",
       "  <tbody>\n",
       "    <tr>\n",
       "      <th>10</th>\n",
       "      <td>1.362433</td>\n",
       "      <td>-0.381303</td>\n",
       "      <td>0.981130</td>\n",
       "    </tr>\n",
       "    <tr>\n",
       "      <th>11</th>\n",
       "      <td>-0.048545</td>\n",
       "      <td>1.808349</td>\n",
       "      <td>1.759804</td>\n",
       "    </tr>\n",
       "    <tr>\n",
       "      <th>12</th>\n",
       "      <td>-0.565290</td>\n",
       "      <td>-1.794958</td>\n",
       "      <td>-2.360248</td>\n",
       "    </tr>\n",
       "    <tr>\n",
       "      <th>13</th>\n",
       "      <td>1.539436</td>\n",
       "      <td>-0.802554</td>\n",
       "      <td>0.736881</td>\n",
       "    </tr>\n",
       "  </tbody>\n",
       "</table>\n",
       "</div>"
      ],
      "text/plain": [
       "          x1        x2        x3\n",
       "10  1.362433 -0.381303  0.981130\n",
       "11 -0.048545  1.808349  1.759804\n",
       "12 -0.565290 -1.794958 -2.360248\n",
       "13  1.539436 -0.802554  0.736881"
      ]
     },
     "execution_count": 16,
     "metadata": {},
     "output_type": "execute_result"
    }
   ],
   "source": [
    "df[10:14]"
   ]
  },
  {
   "cell_type": "markdown",
   "id": "f1312d24",
   "metadata": {},
   "source": [
    "You can also use slicing to specify every nth value. The code cell below outputs every 8th row in the DataFrame."
   ]
  },
  {
   "cell_type": "code",
   "execution_count": 17,
   "id": "a1e29c72",
   "metadata": {},
   "outputs": [
    {
     "data": {
      "text/html": [
       "<div>\n",
       "<style scoped>\n",
       "    .dataframe tbody tr th:only-of-type {\n",
       "        vertical-align: middle;\n",
       "    }\n",
       "\n",
       "    .dataframe tbody tr th {\n",
       "        vertical-align: top;\n",
       "    }\n",
       "\n",
       "    .dataframe thead th {\n",
       "        text-align: right;\n",
       "    }\n",
       "</style>\n",
       "<table border=\"1\" class=\"dataframe\">\n",
       "  <thead>\n",
       "    <tr style=\"text-align: right;\">\n",
       "      <th></th>\n",
       "      <th>x1</th>\n",
       "      <th>x2</th>\n",
       "      <th>x3</th>\n",
       "    </tr>\n",
       "  </thead>\n",
       "  <tbody>\n",
       "    <tr>\n",
       "      <th>0</th>\n",
       "      <td>-1.889809</td>\n",
       "      <td>-0.951826</td>\n",
       "      <td>-2.841635</td>\n",
       "    </tr>\n",
       "    <tr>\n",
       "      <th>8</th>\n",
       "      <td>-0.388414</td>\n",
       "      <td>-2.089167</td>\n",
       "      <td>-2.477582</td>\n",
       "    </tr>\n",
       "    <tr>\n",
       "      <th>16</th>\n",
       "      <td>1.223884</td>\n",
       "      <td>0.026210</td>\n",
       "      <td>1.250093</td>\n",
       "    </tr>\n",
       "    <tr>\n",
       "      <th>24</th>\n",
       "      <td>0.846287</td>\n",
       "      <td>-0.347500</td>\n",
       "      <td>0.498787</td>\n",
       "    </tr>\n",
       "    <tr>\n",
       "      <th>32</th>\n",
       "      <td>0.646336</td>\n",
       "      <td>-0.621638</td>\n",
       "      <td>0.024698</td>\n",
       "    </tr>\n",
       "    <tr>\n",
       "      <th>40</th>\n",
       "      <td>-1.353512</td>\n",
       "      <td>1.894919</td>\n",
       "      <td>0.541407</td>\n",
       "    </tr>\n",
       "    <tr>\n",
       "      <th>48</th>\n",
       "      <td>1.011284</td>\n",
       "      <td>-0.005173</td>\n",
       "      <td>1.006111</td>\n",
       "    </tr>\n",
       "    <tr>\n",
       "      <th>56</th>\n",
       "      <td>0.152768</td>\n",
       "      <td>-0.032386</td>\n",
       "      <td>0.120382</td>\n",
       "    </tr>\n",
       "    <tr>\n",
       "      <th>64</th>\n",
       "      <td>0.694311</td>\n",
       "      <td>-1.220437</td>\n",
       "      <td>-0.526126</td>\n",
       "    </tr>\n",
       "    <tr>\n",
       "      <th>72</th>\n",
       "      <td>0.802240</td>\n",
       "      <td>-1.167227</td>\n",
       "      <td>-0.364987</td>\n",
       "    </tr>\n",
       "    <tr>\n",
       "      <th>80</th>\n",
       "      <td>0.642285</td>\n",
       "      <td>-1.544176</td>\n",
       "      <td>-0.901891</td>\n",
       "    </tr>\n",
       "    <tr>\n",
       "      <th>88</th>\n",
       "      <td>-1.471156</td>\n",
       "      <td>-0.272956</td>\n",
       "      <td>-1.744112</td>\n",
       "    </tr>\n",
       "    <tr>\n",
       "      <th>96</th>\n",
       "      <td>0.360170</td>\n",
       "      <td>0.528594</td>\n",
       "      <td>0.888764</td>\n",
       "    </tr>\n",
       "  </tbody>\n",
       "</table>\n",
       "</div>"
      ],
      "text/plain": [
       "          x1        x2        x3\n",
       "0  -1.889809 -0.951826 -2.841635\n",
       "8  -0.388414 -2.089167 -2.477582\n",
       "16  1.223884  0.026210  1.250093\n",
       "24  0.846287 -0.347500  0.498787\n",
       "32  0.646336 -0.621638  0.024698\n",
       "40 -1.353512  1.894919  0.541407\n",
       "48  1.011284 -0.005173  1.006111\n",
       "56  0.152768 -0.032386  0.120382\n",
       "64  0.694311 -1.220437 -0.526126\n",
       "72  0.802240 -1.167227 -0.364987\n",
       "80  0.642285 -1.544176 -0.901891\n",
       "88 -1.471156 -0.272956 -1.744112\n",
       "96  0.360170  0.528594  0.888764"
      ]
     },
     "execution_count": 17,
     "metadata": {},
     "output_type": "execute_result"
    }
   ],
   "source": [
    "df[::8]"
   ]
  },
  {
   "cell_type": "markdown",
   "id": "f0a0b25a",
   "metadata": {},
   "source": [
    "The cell below uses `iloc` to return the column with an index of 2 (column: `x3`) in rows 10-13."
   ]
  },
  {
   "cell_type": "code",
   "execution_count": 18,
   "id": "441214fe",
   "metadata": {},
   "outputs": [
    {
     "data": {
      "text/html": [
       "<div>\n",
       "<style scoped>\n",
       "    .dataframe tbody tr th:only-of-type {\n",
       "        vertical-align: middle;\n",
       "    }\n",
       "\n",
       "    .dataframe tbody tr th {\n",
       "        vertical-align: top;\n",
       "    }\n",
       "\n",
       "    .dataframe thead th {\n",
       "        text-align: right;\n",
       "    }\n",
       "</style>\n",
       "<table border=\"1\" class=\"dataframe\">\n",
       "  <thead>\n",
       "    <tr style=\"text-align: right;\">\n",
       "      <th></th>\n",
       "      <th>x3</th>\n",
       "    </tr>\n",
       "  </thead>\n",
       "  <tbody>\n",
       "    <tr>\n",
       "      <th>10</th>\n",
       "      <td>0.981130</td>\n",
       "    </tr>\n",
       "    <tr>\n",
       "      <th>11</th>\n",
       "      <td>1.759804</td>\n",
       "    </tr>\n",
       "    <tr>\n",
       "      <th>12</th>\n",
       "      <td>-2.360248</td>\n",
       "    </tr>\n",
       "    <tr>\n",
       "      <th>13</th>\n",
       "      <td>0.736881</td>\n",
       "    </tr>\n",
       "  </tbody>\n",
       "</table>\n",
       "</div>"
      ],
      "text/plain": [
       "          x3\n",
       "10  0.981130\n",
       "11  1.759804\n",
       "12 -2.360248\n",
       "13  0.736881"
      ]
     },
     "execution_count": 18,
     "metadata": {},
     "output_type": "execute_result"
    }
   ],
   "source": [
    "df.iloc[10:14, [2]]"
   ]
  },
  {
   "cell_type": "markdown",
   "id": "351d9e06",
   "metadata": {},
   "source": [
    "### Step 8\n",
    "\n",
    "Often times you may want to select rows based on the rows meeting certain conditions. This can be done with the syntax of `DataFrame_obj[condition]` where the <b>condition</b> represents some boolean condition on the data. \n",
    "\n",
    "The code cell below uses this method to find out how many rows have a value greater than 1 in column <b>x3</b>. \n",
    "Run the cell below and inspect the results. You will see all of the rows in the DataFrame in which this condition is met."
   ]
  },
  {
   "cell_type": "code",
   "execution_count": 19,
   "id": "6194bf1b",
   "metadata": {},
   "outputs": [
    {
     "data": {
      "text/html": [
       "<div>\n",
       "<style scoped>\n",
       "    .dataframe tbody tr th:only-of-type {\n",
       "        vertical-align: middle;\n",
       "    }\n",
       "\n",
       "    .dataframe tbody tr th {\n",
       "        vertical-align: top;\n",
       "    }\n",
       "\n",
       "    .dataframe thead th {\n",
       "        text-align: right;\n",
       "    }\n",
       "</style>\n",
       "<table border=\"1\" class=\"dataframe\">\n",
       "  <thead>\n",
       "    <tr style=\"text-align: right;\">\n",
       "      <th></th>\n",
       "      <th>x1</th>\n",
       "      <th>x2</th>\n",
       "      <th>x3</th>\n",
       "    </tr>\n",
       "  </thead>\n",
       "  <tbody>\n",
       "    <tr>\n",
       "      <th>3</th>\n",
       "      <td>-0.315230</td>\n",
       "      <td>1.461830</td>\n",
       "      <td>1.146599</td>\n",
       "    </tr>\n",
       "    <tr>\n",
       "      <th>4</th>\n",
       "      <td>0.620940</td>\n",
       "      <td>1.208886</td>\n",
       "      <td>1.829826</td>\n",
       "    </tr>\n",
       "    <tr>\n",
       "      <th>7</th>\n",
       "      <td>2.056380</td>\n",
       "      <td>-0.065555</td>\n",
       "      <td>1.990825</td>\n",
       "    </tr>\n",
       "    <tr>\n",
       "      <th>9</th>\n",
       "      <td>0.621526</td>\n",
       "      <td>0.928360</td>\n",
       "      <td>1.549885</td>\n",
       "    </tr>\n",
       "    <tr>\n",
       "      <th>11</th>\n",
       "      <td>-0.048545</td>\n",
       "      <td>1.808349</td>\n",
       "      <td>1.759804</td>\n",
       "    </tr>\n",
       "    <tr>\n",
       "      <th>14</th>\n",
       "      <td>0.607693</td>\n",
       "      <td>2.199342</td>\n",
       "      <td>2.807035</td>\n",
       "    </tr>\n",
       "    <tr>\n",
       "      <th>15</th>\n",
       "      <td>0.582627</td>\n",
       "      <td>1.122887</td>\n",
       "      <td>1.705513</td>\n",
       "    </tr>\n",
       "    <tr>\n",
       "      <th>16</th>\n",
       "      <td>1.223884</td>\n",
       "      <td>0.026210</td>\n",
       "      <td>1.250093</td>\n",
       "    </tr>\n",
       "    <tr>\n",
       "      <th>21</th>\n",
       "      <td>0.354366</td>\n",
       "      <td>0.678970</td>\n",
       "      <td>1.033336</td>\n",
       "    </tr>\n",
       "    <tr>\n",
       "      <th>23</th>\n",
       "      <td>-1.221902</td>\n",
       "      <td>2.492020</td>\n",
       "      <td>1.270118</td>\n",
       "    </tr>\n",
       "    <tr>\n",
       "      <th>29</th>\n",
       "      <td>0.351708</td>\n",
       "      <td>2.240537</td>\n",
       "      <td>2.592245</td>\n",
       "    </tr>\n",
       "    <tr>\n",
       "      <th>34</th>\n",
       "      <td>0.622445</td>\n",
       "      <td>1.912766</td>\n",
       "      <td>2.535211</td>\n",
       "    </tr>\n",
       "    <tr>\n",
       "      <th>36</th>\n",
       "      <td>1.704910</td>\n",
       "      <td>1.727418</td>\n",
       "      <td>3.432328</td>\n",
       "    </tr>\n",
       "    <tr>\n",
       "      <th>45</th>\n",
       "      <td>-1.322278</td>\n",
       "      <td>3.036473</td>\n",
       "      <td>1.714196</td>\n",
       "    </tr>\n",
       "    <tr>\n",
       "      <th>46</th>\n",
       "      <td>1.140828</td>\n",
       "      <td>0.585503</td>\n",
       "      <td>1.726331</td>\n",
       "    </tr>\n",
       "    <tr>\n",
       "      <th>48</th>\n",
       "      <td>1.011284</td>\n",
       "      <td>-0.005173</td>\n",
       "      <td>1.006111</td>\n",
       "    </tr>\n",
       "    <tr>\n",
       "      <th>57</th>\n",
       "      <td>1.641346</td>\n",
       "      <td>-0.050586</td>\n",
       "      <td>1.590760</td>\n",
       "    </tr>\n",
       "    <tr>\n",
       "      <th>58</th>\n",
       "      <td>2.044826</td>\n",
       "      <td>-0.145764</td>\n",
       "      <td>1.899063</td>\n",
       "    </tr>\n",
       "    <tr>\n",
       "      <th>62</th>\n",
       "      <td>0.283277</td>\n",
       "      <td>1.114602</td>\n",
       "      <td>1.397879</td>\n",
       "    </tr>\n",
       "    <tr>\n",
       "      <th>73</th>\n",
       "      <td>-0.802806</td>\n",
       "      <td>2.495120</td>\n",
       "      <td>1.692314</td>\n",
       "    </tr>\n",
       "    <tr>\n",
       "      <th>74</th>\n",
       "      <td>2.126292</td>\n",
       "      <td>1.974300</td>\n",
       "      <td>4.100592</td>\n",
       "    </tr>\n",
       "    <tr>\n",
       "      <th>76</th>\n",
       "      <td>-0.762171</td>\n",
       "      <td>1.944508</td>\n",
       "      <td>1.182337</td>\n",
       "    </tr>\n",
       "    <tr>\n",
       "      <th>81</th>\n",
       "      <td>0.710984</td>\n",
       "      <td>1.805286</td>\n",
       "      <td>2.516270</td>\n",
       "    </tr>\n",
       "    <tr>\n",
       "      <th>82</th>\n",
       "      <td>1.680877</td>\n",
       "      <td>0.569318</td>\n",
       "      <td>2.250195</td>\n",
       "    </tr>\n",
       "    <tr>\n",
       "      <th>83</th>\n",
       "      <td>0.349359</td>\n",
       "      <td>1.644614</td>\n",
       "      <td>1.993973</td>\n",
       "    </tr>\n",
       "    <tr>\n",
       "      <th>86</th>\n",
       "      <td>0.188928</td>\n",
       "      <td>2.226893</td>\n",
       "      <td>2.415821</td>\n",
       "    </tr>\n",
       "    <tr>\n",
       "      <th>92</th>\n",
       "      <td>1.754343</td>\n",
       "      <td>0.487592</td>\n",
       "      <td>2.241935</td>\n",
       "    </tr>\n",
       "    <tr>\n",
       "      <th>94</th>\n",
       "      <td>0.679145</td>\n",
       "      <td>0.904238</td>\n",
       "      <td>1.583383</td>\n",
       "    </tr>\n",
       "    <tr>\n",
       "      <th>97</th>\n",
       "      <td>1.970293</td>\n",
       "      <td>-0.901383</td>\n",
       "      <td>1.068910</td>\n",
       "    </tr>\n",
       "  </tbody>\n",
       "</table>\n",
       "</div>"
      ],
      "text/plain": [
       "          x1        x2        x3\n",
       "3  -0.315230  1.461830  1.146599\n",
       "4   0.620940  1.208886  1.829826\n",
       "7   2.056380 -0.065555  1.990825\n",
       "9   0.621526  0.928360  1.549885\n",
       "11 -0.048545  1.808349  1.759804\n",
       "14  0.607693  2.199342  2.807035\n",
       "15  0.582627  1.122887  1.705513\n",
       "16  1.223884  0.026210  1.250093\n",
       "21  0.354366  0.678970  1.033336\n",
       "23 -1.221902  2.492020  1.270118\n",
       "29  0.351708  2.240537  2.592245\n",
       "34  0.622445  1.912766  2.535211\n",
       "36  1.704910  1.727418  3.432328\n",
       "45 -1.322278  3.036473  1.714196\n",
       "46  1.140828  0.585503  1.726331\n",
       "48  1.011284 -0.005173  1.006111\n",
       "57  1.641346 -0.050586  1.590760\n",
       "58  2.044826 -0.145764  1.899063\n",
       "62  0.283277  1.114602  1.397879\n",
       "73 -0.802806  2.495120  1.692314\n",
       "74  2.126292  1.974300  4.100592\n",
       "76 -0.762171  1.944508  1.182337\n",
       "81  0.710984  1.805286  2.516270\n",
       "82  1.680877  0.569318  2.250195\n",
       "83  0.349359  1.644614  1.993973\n",
       "86  0.188928  2.226893  2.415821\n",
       "92  1.754343  0.487592  2.241935\n",
       "94  0.679145  0.904238  1.583383\n",
       "97  1.970293 -0.901383  1.068910"
      ]
     },
     "execution_count": 19,
     "metadata": {},
     "output_type": "execute_result"
    }
   ],
   "source": [
    "d = df[df['x3']>1]\n",
    "d"
   ]
  },
  {
   "cell_type": "markdown",
   "id": "7a69e2a4",
   "metadata": {},
   "source": [
    "You can use the DataFrame property `shape` to access the row count and see how many rows meet the specified condition. Run the cell below and inspect the results. \n",
    "\n",
    "For more information about the `shape` property, consult the online [documentation](https://pandas.pydata.org/pandas-docs/dev/reference/api/pandas.DataFrame.shape.html)."
   ]
  },
  {
   "cell_type": "code",
   "execution_count": 20,
   "id": "1f7f44e5",
   "metadata": {},
   "outputs": [
    {
     "data": {
      "text/plain": [
       "29"
      ]
     },
     "execution_count": 20,
     "metadata": {},
     "output_type": "execute_result"
    }
   ],
   "source": [
    "df[df['x3']>1].shape[0]"
   ]
  }
 ],
 "metadata": {
  "kernelspec": {
   "display_name": "Python 3 (ipykernel)",
   "language": "python",
   "name": "python3"
  },
  "language_info": {
   "codemirror_mode": {
    "name": "ipython",
    "version": 3
   },
   "file_extension": ".py",
   "mimetype": "text/x-python",
   "name": "python",
   "nbconvert_exporter": "python",
   "pygments_lexer": "ipython3",
   "version": "3.11.7"
  },
  "toc": {
   "base_numbering": 1,
   "nav_menu": {},
   "number_sections": false,
   "sideBar": true,
   "skip_h1_title": false,
   "title_cell": "Table of Contents",
   "title_sidebar": "Contents",
   "toc_cell": false,
   "toc_position": {},
   "toc_section_display": true,
   "toc_window_display": false
  },
  "varInspector": {
   "cols": {
    "lenName": 16,
    "lenType": 16,
    "lenVar": 40
   },
   "kernels_config": {
    "python": {
     "delete_cmd_postfix": "",
     "delete_cmd_prefix": "del ",
     "library": "var_list.py",
     "varRefreshCmd": "print(var_dic_list())"
    },
    "r": {
     "delete_cmd_postfix": ") ",
     "delete_cmd_prefix": "rm(",
     "library": "var_list.r",
     "varRefreshCmd": "cat(var_dic_list()) "
    }
   },
   "types_to_exclude": [
    "module",
    "function",
    "builtin_function_or_method",
    "instance",
    "_Feature"
   ],
   "window_display": false
  }
 },
 "nbformat": 4,
 "nbformat_minor": 5
}
