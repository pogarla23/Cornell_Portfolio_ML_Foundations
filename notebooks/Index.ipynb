{
 "cells": [
  {
   "cell_type": "markdown",
   "id": "e5750498-f69a-436f-ba46-b9a414616335",
   "metadata": {},
   "source": [
    "#First Program\n",
    "\n",
    "This is the first program to understand basics of Python"
   ]
  },
  {
   "cell_type": "code",
   "execution_count": 5,
   "id": "a1caa7bd-00d5-4877-a493-800c5cc77d5b",
   "metadata": {},
   "outputs": [
    {
     "name": "stdout",
     "output_type": "stream",
     "text": [
      "Hello World\n",
      "Hello World\n"
     ]
    }
   ],
   "source": [
    "print('Hello World')\n",
    "print('Hello World')"
   ]
  },
  {
   "cell_type": "markdown",
   "id": "98af1901-2f13-4b8a-809e-9af9b0be27d8",
   "metadata": {},
   "source": [
    "#More Documentation\n",
    "\n",
    "- This is one item\n",
    "- here is another item"
   ]
  },
  {
   "cell_type": "code",
   "execution_count": 9,
   "id": "4e7b38cc-b85a-4ea5-973f-058c041c8187",
   "metadata": {},
   "outputs": [
    {
     "data": {
      "text/plain": [
       "2"
      ]
     },
     "execution_count": 9,
     "metadata": {},
     "output_type": "execute_result"
    }
   ],
   "source": [
    "1+1"
   ]
  },
  {
   "cell_type": "code",
   "execution_count": 7,
   "id": "8c8654f1-409f-48be-b6dc-d3175072441a",
   "metadata": {},
   "outputs": [],
   "source": [
    "import pandas as pd"
   ]
  },
  {
   "cell_type": "markdown",
   "id": "206cf1c3-fb26-4256-8ddd-526e3ec581a4",
   "metadata": {},
   "source": [
    "#Tips\n",
    "\n",
    "- To add new box below tap b\n",
    "- to delete double tap d\n",
    "- to add a box above tap a\n",
    "- to move boxes up and down (instead of control c/v) use arrow keys to move up and down within box"
   ]
  },
  {
   "cell_type": "code",
   "execution_count": 10,
   "id": "14584dbc-4811-406e-a3bc-9fd25ae85ccc",
   "metadata": {},
   "outputs": [
    {
     "data": {
      "text/plain": [
       "0    1\n",
       "1    2\n",
       "2    3\n",
       "dtype: int64"
      ]
     },
     "execution_count": 10,
     "metadata": {},
     "output_type": "execute_result"
    }
   ],
   "source": [
    "data = [1,2,3]\n",
    "pd.Series(data=data)"
   ]
  },
  {
   "cell_type": "markdown",
   "id": "2fd7bc17-efcb-4bbb-8392-c10e78ba6e22",
   "metadata": {},
   "source": [
    "#From Lesson 1.4\n",
    "\n",
    "```python\n",
    "def add(x,y):\r\n",
    "    result = x+y\r\n",
    "    return resul```\n",
    "t\n",
    "\n",
    "- %w   confirms that a function has been well-defined/executed we\n",
    "- functionname? shows the stuff in the function\n",
    "l "
   ]
  }
 ],
 "metadata": {
  "kernelspec": {
   "display_name": "Python 3 (ipykernel)",
   "language": "python",
   "name": "python3"
  },
  "language_info": {
   "codemirror_mode": {
    "name": "ipython",
    "version": 3
   },
   "file_extension": ".py",
   "mimetype": "text/x-python",
   "name": "python",
   "nbconvert_exporter": "python",
   "pygments_lexer": "ipython3",
   "version": "3.11.7"
  }
 },
 "nbformat": 4,
 "nbformat_minor": 5
}
