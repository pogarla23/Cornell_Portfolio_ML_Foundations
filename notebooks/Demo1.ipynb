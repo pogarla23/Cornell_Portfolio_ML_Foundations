{
 "cells": [
  {
   "cell_type": "code",
   "execution_count": 1,
   "id": "362f4b63-45d4-4321-8bb6-91fa78b7f792",
   "metadata": {},
   "outputs": [],
   "source": [
    "import pandas as pd\n",
    "import matplotlib.pyplot as plt\n",
    "import seaborn as sns\n",
    "#the errors shown below are there bc there is no existing file called that"
   ]
  },
  {
   "cell_type": "code",
   "execution_count": 3,
   "id": "545d1e6f-966a-49d1-b418-d9f908f19fbf",
   "metadata": {},
   "outputs": [
    {
     "ename": "SyntaxError",
     "evalue": "(unicode error) 'unicodeescape' codec can't decode bytes in position 2-3: truncated \\UXXXXXXXX escape (3685698330.py, line 1)",
     "output_type": "error",
     "traceback": [
      "\u001b[1;36m  Cell \u001b[1;32mIn[3], line 1\u001b[1;36m\u001b[0m\n\u001b[1;33m    rootdir = 'C:\\Users\\pgarl\\OneDrive\\Documents\\bbt_programs'\u001b[0m\n\u001b[1;37m                                                              ^\u001b[0m\n\u001b[1;31mSyntaxError\u001b[0m\u001b[1;31m:\u001b[0m (unicode error) 'unicodeescape' codec can't decode bytes in position 2-3: truncated \\UXXXXXXXX escape\n"
     ]
    }
   ],
   "source": [
    "rootdir = 'C:\\Users\\pgarl\\OneDrive\\Documents\\bbt_programs'\n",
    "infile = rootdir + '\\data\\ cells.htm'"
   ]
  },
  {
   "cell_type": "code",
   "execution_count": 4,
   "id": "0f739337-c141-4685-adcc-ac506d0de378",
   "metadata": {},
   "outputs": [
    {
     "ename": "NameError",
     "evalue": "name 'infile' is not defined",
     "output_type": "error",
     "traceback": [
      "\u001b[1;31m---------------------------------------------------------------------------\u001b[0m",
      "\u001b[1;31mNameError\u001b[0m                                 Traceback (most recent call last)",
      "Cell \u001b[1;32mIn[4], line 1\u001b[0m\n\u001b[1;32m----> 1\u001b[0m df \u001b[38;5;241m=\u001b[39m pd\u001b[38;5;241m.\u001b[39mread_csv(infile)\n\u001b[0;32m      2\u001b[0m \u001b[38;5;66;03m#putting into a dataframe pandas package\u001b[39;00m\n\u001b[0;32m      3\u001b[0m df\u001b[38;5;241m.\u001b[39mhead(\u001b[38;5;241m10\u001b[39m) \n",
      "\u001b[1;31mNameError\u001b[0m: name 'infile' is not defined"
     ]
    }
   ],
   "source": [
    "df = pd.read_csv(infile)\n",
    "#putting into a dataframe pandas package\n",
    "df.head(10) \n",
    "#will show the dataframe and the amount of records you want\n",
    "sns.histplot(x=df.revenue)\n",
    "#display distributed systems and plot a spedific part of a column/feature in the dataframe and plot it\n",
    "plt.savefig(rootdir+'/ouput/revenue_histogram.jpeg')\n",
    "#save the file as a picture in the output folder that we created"
   ]
  }
 ],
 "metadata": {
  "kernelspec": {
   "display_name": "Python 3 (ipykernel)",
   "language": "python",
   "name": "python3"
  },
  "language_info": {
   "codemirror_mode": {
    "name": "ipython",
    "version": 3
   },
   "file_extension": ".py",
   "mimetype": "text/x-python",
   "name": "python",
   "nbconvert_exporter": "python",
   "pygments_lexer": "ipython3",
   "version": "3.11.7"
  }
 },
 "nbformat": 4,
 "nbformat_minor": 5
}
